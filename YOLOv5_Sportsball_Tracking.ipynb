{
  "cells": [
    {
      "cell_type": "markdown",
      "metadata": {
        "id": "t6MPjfT5NrKQ"
      },
      "source": [
        "<div align=\"center\">\n",
        "\n",
        "  <a href=\"https://ultralytics.com/yolov5\" target=\"_blank\">\n",
        "    <img width=\"1024\", src=\"https://github.com/ultralytics/assets/raw/master/yolov5/v62/splash_readme.png\"></a>\n",
        "\n",
        "\n",
        "<br>\n",
        "  <a href=\"https://bit.ly/yolov5-paperspace-notebook\"><img src=\"https://assets.paperspace.io/img/gradient-badge.svg\" alt=\"Run on Gradient\"></a>\n",
        "  <a href=\"https://colab.research.google.com/github/ultralytics/yolov5/blob/master/tutorial.ipynb\"><img src=\"https://colab.research.google.com/assets/colab-badge.svg\" alt=\"Open In Colab\"></a>\n",
        "  <a href=\"https://www.kaggle.com/ultralytics/yolov5\"><img src=\"https://kaggle.com/static/images/open-in-kaggle.svg\" alt=\"Open In Kaggle\"></a>\n",
        "<br>\n",
        "\n",
        "This <a href=\"https://github.com/ultralytics/yolov5\">YOLOv5</a> 🚀 notebook by <a href=\"https://ultralytics.com\">Ultralytics</a> presents simple train, validate and predict examples to help start your AI adventure.<br>See <a href=\"https://github.com/ultralytics/yolov5/issues/new/choose\">GitHub</a> for community support or <a href=\"https://ultralytics.com/contact\">contact us</a> for professional support.\n",
        "\n",
        "</div>"
      ]
    },
    {
      "cell_type": "markdown",
      "metadata": {
        "id": "7mGmQbAO5pQb"
      },
      "source": [
        "# Setup\n",
        "\n",
        "Clone GitHub [repository](https://github.com/ultralytics/yolov5), install [dependencies](https://github.com/ultralytics/yolov5/blob/master/requirements.txt) and check PyTorch and GPU."
      ]
    },
    {
      "cell_type": "code",
      "execution_count": 1,
      "metadata": {
        "colab": {
          "base_uri": "https://localhost:8080/"
        },
        "id": "70mNi0dXXYlF",
        "outputId": "33671d27-644e-4bb9-ed93-8b58d03bd99b"
      },
      "outputs": [
        {
          "output_type": "stream",
          "name": "stdout",
          "text": [
            "Mounted at /content/gdrive/\n"
          ]
        }
      ],
      "source": [
        "#connet gdrive\n",
        "from google.colab import drive\n",
        "\n",
        "drive.mount('/content/gdrive/', force_remount=True)"
      ]
    },
    {
      "cell_type": "code",
      "execution_count": null,
      "metadata": {
        "colab": {
          "base_uri": "https://localhost:8080/"
        },
        "id": "zh9eO-vEaEMP",
        "outputId": "a1d3c4df-b5c3-4728-c950-0a253b5fe460"
      },
      "outputs": [
        {
          "name": "stdout",
          "output_type": "stream",
          "text": [
            "benchmarks.py    \u001b[0m\u001b[01;34mdata\u001b[0m/       LICENSE         README.zh-CN.md   tutorial.ipynb\n",
            "CITATION.cff     detect.py   \u001b[01;34mmodels\u001b[0m/         requirements.txt  \u001b[01;34mutils\u001b[0m/\n",
            "\u001b[01;34mclassify\u001b[0m/        export.py   pyproject.toml  \u001b[01;34msegment\u001b[0m/          val.py\n",
            "CONTRIBUTING.md  hubconf.py  README.md       train.py\n"
          ]
        }
      ],
      "source": [
        "# %cd ../\n",
        "%ls"
      ]
    },
    {
      "cell_type": "code",
      "execution_count": null,
      "metadata": {
        "colab": {
          "base_uri": "https://localhost:8080/"
        },
        "id": "wbvMlHd_QwMG",
        "outputId": "d026142a-22dc-4b15-b92c-2dc7ea37941e"
      },
      "outputs": [
        {
          "name": "stderr",
          "output_type": "stream",
          "text": [
            "YOLOv5 🚀 v7.0-295-gac6c4383 Python-3.10.12 torch-2.2.1+cu121 CPU\n"
          ]
        },
        {
          "name": "stdout",
          "output_type": "stream",
          "text": [
            "Setup complete ✅ (2 CPUs, 12.7 GB RAM, 28.9/107.7 GB disk)\n"
          ]
        }
      ],
      "source": [
        "!git clone https://github.com/ultralytics/yolov5  # clone\n",
        "%cd yolov5\n",
        "%pip install -qr requirements.txt  # install\n",
        "\n",
        "import torch\n",
        "import utils\n",
        "display = utils.notebook_init()  # checks"
      ]
    },
    {
      "cell_type": "code",
      "execution_count": null,
      "metadata": {
        "colab": {
          "base_uri": "https://localhost:8080/"
        },
        "id": "bhtUoo7Svjav",
        "outputId": "1d665cc6-c353-4338-fcf3-86928380940a"
      },
      "outputs": [
        {
          "name": "stdout",
          "output_type": "stream",
          "text": [
            "/content\n",
            "\u001b[0m\u001b[01;34mgdrive\u001b[0m/  \u001b[01;34myolov5\u001b[0m/\n"
          ]
        }
      ],
      "source": [
        "%cd ../\n",
        "%ls"
      ]
    },
    {
      "cell_type": "markdown",
      "metadata": {
        "id": "4JnkELT0cIJg"
      },
      "source": [
        "# 1. Detect\n",
        "\n",
        "`detect.py` runs YOLOv5 inference on a variety of sources, downloading models automatically from the [latest YOLOv5 release](https://github.com/ultralytics/yolov5/releases), and saving results to `runs/detect`. Example inference sources are:\n",
        "\n",
        "```shell\n",
        "python detect.py --source 0  # webcam\n",
        "                          img.jpg  # image\n",
        "                          vid.mp4  # video\n",
        "                          screen  # screenshot\n",
        "                          path/  # directory\n",
        "                          'path/*.jpg'  # glob\n",
        "                          'https://youtu.be/Zgi9g1ksQHc'  # YouTube\n",
        "                          'rtsp://example.com/media.mp4'  # RTSP, RTMP, HTTP stream\n",
        "```"
      ]
    },
    {
      "cell_type": "code",
      "execution_count": null,
      "metadata": {
        "colab": {
          "base_uri": "https://localhost:8080/"
        },
        "id": "zR9ZbuQCH7FX",
        "outputId": "e881624d-bddf-4e26-d791-6d18b1cd2c42"
      },
      "outputs": [
        {
          "name": "stdout",
          "output_type": "stream",
          "text": [
            "\u001b[34m\u001b[1mdetect_with_labels1: \u001b[0mweights=['/content/yolov5/runs/train/exp2/weights/best.pt'], source=/content/gdrive/MyDrive/pythonsportsball/atlanta.mp4, data=yolov5/data/coco128.yaml, imgsz=[640, 640], conf_thres=0.25, iou_thres=0.45, max_det=1000, device=, view_img=False, save_txt=True, save_conf=True, save_crop=False, nosave=False, classes=None, agnostic_nms=False, augment=False, visualize=False, update=False, project=yolov5/runs/detect, name=exp, exist_ok=False, line_thickness=3, hide_labels=False, hide_conf=False, half=False, dnn=False, vid_stride=1\n",
            "\u001b[31m\u001b[1mrequirements:\u001b[0m /usr/local/lib/python3.10/dist-packages/requirements.txt not found, check failed.\n",
            "YOLOv5 🚀 v7.0-295-gac6c4383 Python-3.10.12 torch-2.2.1+cu121 CUDA:0 (Tesla T4, 15102MiB)\n",
            "\n",
            "Fusing layers... \n",
            "Model summary: 157 layers, 7012822 parameters, 0 gradients, 15.8 GFLOPs\n",
            "video 1/1 (1/990) /content/gdrive/MyDrive/pythonsportsball/atlanta.mp4: 384x640 (no detections), 78.2ms\n",
            "video 1/1 (2/990) /content/gdrive/MyDrive/pythonsportsball/atlanta.mp4: 384x640 (no detections), 11.4ms\n",
            "video 1/1 (3/990) /content/gdrive/MyDrive/pythonsportsball/atlanta.mp4: 384x640 (no detections), 8.3ms\n",
            "video 1/1 (4/990) /content/gdrive/MyDrive/pythonsportsball/atlanta.mp4: 384x640 (no detections), 12.2ms\n",
            "video 1/1 (5/990) /content/gdrive/MyDrive/pythonsportsball/atlanta.mp4: 384x640 (no detections), 11.3ms\n",
            "video 1/1 (6/990) /content/gdrive/MyDrive/pythonsportsball/atlanta.mp4: 384x640 (no detections), 11.3ms\n",
            "video 1/1 (7/990) /content/gdrive/MyDrive/pythonsportsball/atlanta.mp4: 384x640 (no detections), 7.9ms\n",
            "video 1/1 (8/990) /content/gdrive/MyDrive/pythonsportsball/atlanta.mp4: 384x640 (no detections), 7.6ms\n",
            "video 1/1 (9/990) /content/gdrive/MyDrive/pythonsportsball/atlanta.mp4: 384x640 (no detections), 11.1ms\n",
            "video 1/1 (10/990) /content/gdrive/MyDrive/pythonsportsball/atlanta.mp4: 384x640 (no detections), 7.8ms\n",
            "video 1/1 (11/990) /content/gdrive/MyDrive/pythonsportsball/atlanta.mp4: 384x640 (no detections), 12.5ms\n",
            "video 1/1 (12/990) /content/gdrive/MyDrive/pythonsportsball/atlanta.mp4: 384x640 (no detections), 8.1ms\n",
            "video 1/1 (13/990) /content/gdrive/MyDrive/pythonsportsball/atlanta.mp4: 384x640 (no detections), 12.6ms\n",
            "video 1/1 (14/990) /content/gdrive/MyDrive/pythonsportsball/atlanta.mp4: 384x640 (no detections), 17.1ms\n",
            "video 1/1 (15/990) /content/gdrive/MyDrive/pythonsportsball/atlanta.mp4: 384x640 (no detections), 7.6ms\n",
            "video 1/1 (16/990) /content/gdrive/MyDrive/pythonsportsball/atlanta.mp4: 384x640 (no detections), 7.7ms\n",
            "video 1/1 (17/990) /content/gdrive/MyDrive/pythonsportsball/atlanta.mp4: 384x640 (no detections), 9.2ms\n",
            "video 1/1 (18/990) /content/gdrive/MyDrive/pythonsportsball/atlanta.mp4: 384x640 (no detections), 17.1ms\n",
            "video 1/1 (19/990) /content/gdrive/MyDrive/pythonsportsball/atlanta.mp4: 384x640 (no detections), 8.5ms\n",
            "video 1/1 (20/990) /content/gdrive/MyDrive/pythonsportsball/atlanta.mp4: 384x640 (no detections), 7.6ms\n",
            "video 1/1 (21/990) /content/gdrive/MyDrive/pythonsportsball/atlanta.mp4: 384x640 (no detections), 8.0ms\n",
            "video 1/1 (22/990) /content/gdrive/MyDrive/pythonsportsball/atlanta.mp4: 384x640 (no detections), 9.3ms\n",
            "video 1/1 (23/990) /content/gdrive/MyDrive/pythonsportsball/atlanta.mp4: 384x640 (no detections), 8.4ms\n",
            "video 1/1 (24/990) /content/gdrive/MyDrive/pythonsportsball/atlanta.mp4: 384x640 (no detections), 7.7ms\n",
            "video 1/1 (25/990) /content/gdrive/MyDrive/pythonsportsball/atlanta.mp4: 384x640 (no detections), 14.3ms\n",
            "video 1/1 (26/990) /content/gdrive/MyDrive/pythonsportsball/atlanta.mp4: 384x640 (no detections), 8.0ms\n",
            "video 1/1 (27/990) /content/gdrive/MyDrive/pythonsportsball/atlanta.mp4: 384x640 (no detections), 7.6ms\n",
            "video 1/1 (28/990) /content/gdrive/MyDrive/pythonsportsball/atlanta.mp4: 384x640 (no detections), 8.7ms\n",
            "video 1/1 (29/990) /content/gdrive/MyDrive/pythonsportsball/atlanta.mp4: 384x640 (no detections), 15.3ms\n",
            "video 1/1 (30/990) /content/gdrive/MyDrive/pythonsportsball/atlanta.mp4: 384x640 (no detections), 8.6ms\n",
            "video 1/1 (31/990) /content/gdrive/MyDrive/pythonsportsball/atlanta.mp4: 384x640 (no detections), 7.7ms\n",
            "video 1/1 (32/990) /content/gdrive/MyDrive/pythonsportsball/atlanta.mp4: 384x640 (no detections), 7.8ms\n",
            "video 1/1 (33/990) /content/gdrive/MyDrive/pythonsportsball/atlanta.mp4: 384x640 (no detections), 7.5ms\n",
            "video 1/1 (34/990) /content/gdrive/MyDrive/pythonsportsball/atlanta.mp4: 384x640 (no detections), 7.6ms\n",
            "video 1/1 (35/990) /content/gdrive/MyDrive/pythonsportsball/atlanta.mp4: 384x640 (no detections), 12.3ms\n",
            "video 1/1 (36/990) /content/gdrive/MyDrive/pythonsportsball/atlanta.mp4: 384x640 (no detections), 8.8ms\n",
            "video 1/1 (37/990) /content/gdrive/MyDrive/pythonsportsball/atlanta.mp4: 384x640 (no detections), 7.4ms\n",
            "video 1/1 (38/990) /content/gdrive/MyDrive/pythonsportsball/atlanta.mp4: 384x640 (no detections), 13.6ms\n",
            "video 1/1 (39/990) /content/gdrive/MyDrive/pythonsportsball/atlanta.mp4: 384x640 (no detections), 7.3ms\n",
            "video 1/1 (40/990) /content/gdrive/MyDrive/pythonsportsball/atlanta.mp4: 384x640 (no detections), 7.5ms\n",
            "video 1/1 (41/990) /content/gdrive/MyDrive/pythonsportsball/atlanta.mp4: 384x640 (no detections), 7.2ms\n",
            "video 1/1 (42/990) /content/gdrive/MyDrive/pythonsportsball/atlanta.mp4: 384x640 (no detections), 7.2ms\n",
            "video 1/1 (43/990) /content/gdrive/MyDrive/pythonsportsball/atlanta.mp4: 384x640 (no detections), 7.2ms\n",
            "video 1/1 (44/990) /content/gdrive/MyDrive/pythonsportsball/atlanta.mp4: 384x640 (no detections), 14.3ms\n",
            "video 1/1 (45/990) /content/gdrive/MyDrive/pythonsportsball/atlanta.mp4: 384x640 (no detections), 14.6ms\n",
            "video 1/1 (46/990) /content/gdrive/MyDrive/pythonsportsball/atlanta.mp4: 384x640 (no detections), 57.3ms\n",
            "video 1/1 (47/990) /content/gdrive/MyDrive/pythonsportsball/atlanta.mp4: 384x640 (no detections), 8.8ms\n",
            "video 1/1 (48/990) /content/gdrive/MyDrive/pythonsportsball/atlanta.mp4: 384x640 (no detections), 26.7ms\n",
            "video 1/1 (49/990) /content/gdrive/MyDrive/pythonsportsball/atlanta.mp4: 384x640 (no detections), 11.7ms\n",
            "video 1/1 (50/990) /content/gdrive/MyDrive/pythonsportsball/atlanta.mp4: 384x640 (no detections), 8.6ms\n",
            "video 1/1 (51/990) /content/gdrive/MyDrive/pythonsportsball/atlanta.mp4: 384x640 (no detections), 12.4ms\n",
            "video 1/1 (52/990) /content/gdrive/MyDrive/pythonsportsball/atlanta.mp4: 384x640 (no detections), 15.0ms\n",
            "video 1/1 (53/990) /content/gdrive/MyDrive/pythonsportsball/atlanta.mp4: 384x640 (no detections), 11.3ms\n",
            "video 1/1 (54/990) /content/gdrive/MyDrive/pythonsportsball/atlanta.mp4: 384x640 (no detections), 10.7ms\n",
            "video 1/1 (55/990) /content/gdrive/MyDrive/pythonsportsball/atlanta.mp4: 384x640 (no detections), 7.9ms\n",
            "video 1/1 (56/990) /content/gdrive/MyDrive/pythonsportsball/atlanta.mp4: 384x640 (no detections), 13.2ms\n",
            "video 1/1 (57/990) /content/gdrive/MyDrive/pythonsportsball/atlanta.mp4: 384x640 (no detections), 8.8ms\n",
            "video 1/1 (58/990) /content/gdrive/MyDrive/pythonsportsball/atlanta.mp4: 384x640 (no detections), 9.8ms\n",
            "video 1/1 (59/990) /content/gdrive/MyDrive/pythonsportsball/atlanta.mp4: 384x640 (no detections), 7.6ms\n",
            "video 1/1 (60/990) /content/gdrive/MyDrive/pythonsportsball/atlanta.mp4: 384x640 (no detections), 10.9ms\n",
            "video 1/1 (61/990) /content/gdrive/MyDrive/pythonsportsball/atlanta.mp4: 384x640 (no detections), 11.5ms\n",
            "video 1/1 (62/990) /content/gdrive/MyDrive/pythonsportsball/atlanta.mp4: 384x640 (no detections), 11.3ms\n",
            "video 1/1 (63/990) /content/gdrive/MyDrive/pythonsportsball/atlanta.mp4: 384x640 (no detections), 10.3ms\n",
            "video 1/1 (64/990) /content/gdrive/MyDrive/pythonsportsball/atlanta.mp4: 384x640 (no detections), 8.0ms\n",
            "video 1/1 (65/990) /content/gdrive/MyDrive/pythonsportsball/atlanta.mp4: 384x640 (no detections), 7.5ms\n",
            "video 1/1 (66/990) /content/gdrive/MyDrive/pythonsportsball/atlanta.mp4: 384x640 (no detections), 12.2ms\n",
            "video 1/1 (67/990) /content/gdrive/MyDrive/pythonsportsball/atlanta.mp4: 384x640 (no detections), 10.1ms\n",
            "video 1/1 (68/990) /content/gdrive/MyDrive/pythonsportsball/atlanta.mp4: 384x640 (no detections), 10.7ms\n",
            "video 1/1 (69/990) /content/gdrive/MyDrive/pythonsportsball/atlanta.mp4: 384x640 (no detections), 10.4ms\n",
            "video 1/1 (70/990) /content/gdrive/MyDrive/pythonsportsball/atlanta.mp4: 384x640 (no detections), 14.2ms\n",
            "video 1/1 (71/990) /content/gdrive/MyDrive/pythonsportsball/atlanta.mp4: 384x640 (no detections), 72.0ms\n",
            "video 1/1 (72/990) /content/gdrive/MyDrive/pythonsportsball/atlanta.mp4: 384x640 (no detections), 33.8ms\n",
            "video 1/1 (73/990) /content/gdrive/MyDrive/pythonsportsball/atlanta.mp4: 384x640 (no detections), 12.3ms\n",
            "video 1/1 (74/990) /content/gdrive/MyDrive/pythonsportsball/atlanta.mp4: 384x640 (no detections), 9.0ms\n",
            "video 1/1 (75/990) /content/gdrive/MyDrive/pythonsportsball/atlanta.mp4: 384x640 (no detections), 11.7ms\n",
            "video 1/1 (76/990) /content/gdrive/MyDrive/pythonsportsball/atlanta.mp4: 384x640 (no detections), 11.1ms\n",
            "video 1/1 (77/990) /content/gdrive/MyDrive/pythonsportsball/atlanta.mp4: 384x640 (no detections), 10.7ms\n",
            "video 1/1 (78/990) /content/gdrive/MyDrive/pythonsportsball/atlanta.mp4: 384x640 (no detections), 11.1ms\n",
            "video 1/1 (79/990) /content/gdrive/MyDrive/pythonsportsball/atlanta.mp4: 384x640 (no detections), 10.9ms\n",
            "video 1/1 (80/990) /content/gdrive/MyDrive/pythonsportsball/atlanta.mp4: 384x640 (no detections), 10.6ms\n",
            "video 1/1 (81/990) /content/gdrive/MyDrive/pythonsportsball/atlanta.mp4: 384x640 (no detections), 11.6ms\n",
            "video 1/1 (82/990) /content/gdrive/MyDrive/pythonsportsball/atlanta.mp4: 384x640 (no detections), 12.4ms\n",
            "video 1/1 (83/990) /content/gdrive/MyDrive/pythonsportsball/atlanta.mp4: 384x640 (no detections), 10.5ms\n",
            "video 1/1 (84/990) /content/gdrive/MyDrive/pythonsportsball/atlanta.mp4: 384x640 (no detections), 10.5ms\n",
            "video 1/1 (85/990) /content/gdrive/MyDrive/pythonsportsball/atlanta.mp4: 384x640 (no detections), 16.1ms\n",
            "video 1/1 (86/990) /content/gdrive/MyDrive/pythonsportsball/atlanta.mp4: 384x640 (no detections), 12.9ms\n",
            "video 1/1 (87/990) /content/gdrive/MyDrive/pythonsportsball/atlanta.mp4: 384x640 (no detections), 11.3ms\n",
            "video 1/1 (88/990) /content/gdrive/MyDrive/pythonsportsball/atlanta.mp4: 384x640 (no detections), 7.5ms\n",
            "video 1/1 (89/990) /content/gdrive/MyDrive/pythonsportsball/atlanta.mp4: 384x640 (no detections), 9.4ms\n",
            "video 1/1 (90/990) /content/gdrive/MyDrive/pythonsportsball/atlanta.mp4: 384x640 (no detections), 6.0ms\n",
            "video 1/1 (91/990) /content/gdrive/MyDrive/pythonsportsball/atlanta.mp4: 384x640 (no detections), 6.3ms\n",
            "video 1/1 (92/990) /content/gdrive/MyDrive/pythonsportsball/atlanta.mp4: 384x640 (no detections), 5.7ms\n",
            "video 1/1 (93/990) /content/gdrive/MyDrive/pythonsportsball/atlanta.mp4: 384x640 (no detections), 5.6ms\n",
            "video 1/1 (94/990) /content/gdrive/MyDrive/pythonsportsball/atlanta.mp4: 384x640 (no detections), 7.3ms\n",
            "video 1/1 (95/990) /content/gdrive/MyDrive/pythonsportsball/atlanta.mp4: 384x640 (no detections), 6.9ms\n",
            "video 1/1 (96/990) /content/gdrive/MyDrive/pythonsportsball/atlanta.mp4: 384x640 (no detections), 6.2ms\n",
            "video 1/1 (97/990) /content/gdrive/MyDrive/pythonsportsball/atlanta.mp4: 384x640 (no detections), 6.2ms\n",
            "video 1/1 (98/990) /content/gdrive/MyDrive/pythonsportsball/atlanta.mp4: 384x640 (no detections), 5.9ms\n",
            "video 1/1 (99/990) /content/gdrive/MyDrive/pythonsportsball/atlanta.mp4: 384x640 (no detections), 5.6ms\n",
            "video 1/1 (100/990) /content/gdrive/MyDrive/pythonsportsball/atlanta.mp4: 384x640 (no detections), 5.9ms\n",
            "video 1/1 (101/990) /content/gdrive/MyDrive/pythonsportsball/atlanta.mp4: 384x640 (no detections), 9.7ms\n",
            "video 1/1 (102/990) /content/gdrive/MyDrive/pythonsportsball/atlanta.mp4: 384x640 (no detections), 6.1ms\n",
            "video 1/1 (103/990) /content/gdrive/MyDrive/pythonsportsball/atlanta.mp4: 384x640 (no detections), 5.9ms\n",
            "video 1/1 (104/990) /content/gdrive/MyDrive/pythonsportsball/atlanta.mp4: 384x640 (no detections), 7.9ms\n",
            "video 1/1 (105/990) /content/gdrive/MyDrive/pythonsportsball/atlanta.mp4: 384x640 (no detections), 6.3ms\n",
            "video 1/1 (106/990) /content/gdrive/MyDrive/pythonsportsball/atlanta.mp4: 384x640 (no detections), 6.4ms\n",
            "video 1/1 (107/990) /content/gdrive/MyDrive/pythonsportsball/atlanta.mp4: 384x640 (no detections), 5.7ms\n",
            "video 1/1 (108/990) /content/gdrive/MyDrive/pythonsportsball/atlanta.mp4: 384x640 (no detections), 6.1ms\n",
            "video 1/1 (109/990) /content/gdrive/MyDrive/pythonsportsball/atlanta.mp4: 384x640 (no detections), 5.9ms\n",
            "video 1/1 (110/990) /content/gdrive/MyDrive/pythonsportsball/atlanta.mp4: 384x640 (no detections), 6.0ms\n",
            "video 1/1 (111/990) /content/gdrive/MyDrive/pythonsportsball/atlanta.mp4: 384x640 (no detections), 6.1ms\n",
            "video 1/1 (112/990) /content/gdrive/MyDrive/pythonsportsball/atlanta.mp4: 384x640 (no detections), 6.1ms\n",
            "video 1/1 (113/990) /content/gdrive/MyDrive/pythonsportsball/atlanta.mp4: 384x640 (no detections), 6.5ms\n",
            "video 1/1 (114/990) /content/gdrive/MyDrive/pythonsportsball/atlanta.mp4: 384x640 (no detections), 5.7ms\n",
            "video 1/1 (115/990) /content/gdrive/MyDrive/pythonsportsball/atlanta.mp4: 384x640 (no detections), 5.7ms\n",
            "video 1/1 (116/990) /content/gdrive/MyDrive/pythonsportsball/atlanta.mp4: 384x640 (no detections), 5.7ms\n",
            "video 1/1 (117/990) /content/gdrive/MyDrive/pythonsportsball/atlanta.mp4: 384x640 (no detections), 5.6ms\n",
            "video 1/1 (118/990) /content/gdrive/MyDrive/pythonsportsball/atlanta.mp4: 384x640 (no detections), 6.1ms\n",
            "video 1/1 (119/990) /content/gdrive/MyDrive/pythonsportsball/atlanta.mp4: 384x640 (no detections), 7.9ms\n",
            "video 1/1 (120/990) /content/gdrive/MyDrive/pythonsportsball/atlanta.mp4: 384x640 (no detections), 5.9ms\n",
            "video 1/1 (121/990) /content/gdrive/MyDrive/pythonsportsball/atlanta.mp4: 384x640 (no detections), 5.7ms\n",
            "video 1/1 (122/990) /content/gdrive/MyDrive/pythonsportsball/atlanta.mp4: 384x640 (no detections), 5.7ms\n",
            "video 1/1 (123/990) /content/gdrive/MyDrive/pythonsportsball/atlanta.mp4: 384x640 (no detections), 6.3ms\n",
            "video 1/1 (124/990) /content/gdrive/MyDrive/pythonsportsball/atlanta.mp4: 384x640 (no detections), 7.5ms\n",
            "video 1/1 (125/990) /content/gdrive/MyDrive/pythonsportsball/atlanta.mp4: 384x640 (no detections), 6.0ms\n",
            "video 1/1 (126/990) /content/gdrive/MyDrive/pythonsportsball/atlanta.mp4: 384x640 (no detections), 5.8ms\n",
            "video 1/1 (127/990) /content/gdrive/MyDrive/pythonsportsball/atlanta.mp4: 384x640 (no detections), 6.4ms\n",
            "video 1/1 (128/990) /content/gdrive/MyDrive/pythonsportsball/atlanta.mp4: 384x640 (no detections), 6.1ms\n",
            "video 1/1 (129/990) /content/gdrive/MyDrive/pythonsportsball/atlanta.mp4: 384x640 (no detections), 6.2ms\n",
            "video 1/1 (130/990) /content/gdrive/MyDrive/pythonsportsball/atlanta.mp4: 384x640 (no detections), 5.5ms\n",
            "video 1/1 (131/990) /content/gdrive/MyDrive/pythonsportsball/atlanta.mp4: 384x640 (no detections), 6.0ms\n",
            "video 1/1 (132/990) /content/gdrive/MyDrive/pythonsportsball/atlanta.mp4: 384x640 (no detections), 8.4ms\n",
            "video 1/1 (133/990) /content/gdrive/MyDrive/pythonsportsball/atlanta.mp4: 384x640 (no detections), 5.9ms\n",
            "video 1/1 (134/990) /content/gdrive/MyDrive/pythonsportsball/atlanta.mp4: 384x640 (no detections), 7.9ms\n",
            "video 1/1 (135/990) /content/gdrive/MyDrive/pythonsportsball/atlanta.mp4: 384x640 (no detections), 5.6ms\n",
            "video 1/1 (136/990) /content/gdrive/MyDrive/pythonsportsball/atlanta.mp4: 384x640 (no detections), 5.7ms\n",
            "video 1/1 (137/990) /content/gdrive/MyDrive/pythonsportsball/atlanta.mp4: 384x640 (no detections), 6.3ms\n",
            "video 1/1 (138/990) /content/gdrive/MyDrive/pythonsportsball/atlanta.mp4: 384x640 (no detections), 5.8ms\n",
            "video 1/1 (139/990) /content/gdrive/MyDrive/pythonsportsball/atlanta.mp4: 384x640 (no detections), 8.3ms\n",
            "video 1/1 (140/990) /content/gdrive/MyDrive/pythonsportsball/atlanta.mp4: 384x640 (no detections), 6.0ms\n",
            "video 1/1 (141/990) /content/gdrive/MyDrive/pythonsportsball/atlanta.mp4: 384x640 (no detections), 5.6ms\n",
            "video 1/1 (142/990) /content/gdrive/MyDrive/pythonsportsball/atlanta.mp4: 384x640 (no detections), 5.9ms\n",
            "video 1/1 (143/990) /content/gdrive/MyDrive/pythonsportsball/atlanta.mp4: 384x640 (no detections), 5.9ms\n",
            "video 1/1 (144/990) /content/gdrive/MyDrive/pythonsportsball/atlanta.mp4: 384x640 (no detections), 7.1ms\n",
            "video 1/1 (145/990) /content/gdrive/MyDrive/pythonsportsball/atlanta.mp4: 384x640 (no detections), 6.1ms\n",
            "video 1/1 (146/990) /content/gdrive/MyDrive/pythonsportsball/atlanta.mp4: 384x640 (no detections), 6.2ms\n",
            "video 1/1 (147/990) /content/gdrive/MyDrive/pythonsportsball/atlanta.mp4: 384x640 (no detections), 7.2ms\n",
            "video 1/1 (148/990) /content/gdrive/MyDrive/pythonsportsball/atlanta.mp4: 384x640 (no detections), 10.4ms\n",
            "video 1/1 (149/990) /content/gdrive/MyDrive/pythonsportsball/atlanta.mp4: 384x640 (no detections), 7.9ms\n",
            "video 1/1 (150/990) /content/gdrive/MyDrive/pythonsportsball/atlanta.mp4: 384x640 (no detections), 6.6ms\n",
            "video 1/1 (151/990) /content/gdrive/MyDrive/pythonsportsball/atlanta.mp4: 384x640 (no detections), 6.3ms\n",
            "video 1/1 (152/990) /content/gdrive/MyDrive/pythonsportsball/atlanta.mp4: 384x640 (no detections), 6.0ms\n",
            "video 1/1 (153/990) /content/gdrive/MyDrive/pythonsportsball/atlanta.mp4: 384x640 (no detections), 6.1ms\n",
            "video 1/1 (154/990) /content/gdrive/MyDrive/pythonsportsball/atlanta.mp4: 384x640 (no detections), 5.9ms\n",
            "video 1/1 (155/990) /content/gdrive/MyDrive/pythonsportsball/atlanta.mp4: 384x640 (no detections), 5.9ms\n",
            "video 1/1 (156/990) /content/gdrive/MyDrive/pythonsportsball/atlanta.mp4: 384x640 (no detections), 5.9ms\n",
            "video 1/1 (157/990) /content/gdrive/MyDrive/pythonsportsball/atlanta.mp4: 384x640 (no detections), 10.3ms\n",
            "video 1/1 (158/990) /content/gdrive/MyDrive/pythonsportsball/atlanta.mp4: 384x640 (no detections), 5.6ms\n",
            "video 1/1 (159/990) /content/gdrive/MyDrive/pythonsportsball/atlanta.mp4: 384x640 (no detections), 6.1ms\n",
            "video 1/1 (160/990) /content/gdrive/MyDrive/pythonsportsball/atlanta.mp4: 384x640 (no detections), 5.8ms\n",
            "video 1/1 (161/990) /content/gdrive/MyDrive/pythonsportsball/atlanta.mp4: 384x640 (no detections), 5.8ms\n",
            "video 1/1 (162/990) /content/gdrive/MyDrive/pythonsportsball/atlanta.mp4: 384x640 (no detections), 5.8ms\n",
            "video 1/1 (163/990) /content/gdrive/MyDrive/pythonsportsball/atlanta.mp4: 384x640 (no detections), 7.0ms\n",
            "video 1/1 (164/990) /content/gdrive/MyDrive/pythonsportsball/atlanta.mp4: 384x640 (no detections), 8.1ms\n",
            "video 1/1 (165/990) /content/gdrive/MyDrive/pythonsportsball/atlanta.mp4: 384x640 (no detections), 5.7ms\n",
            "video 1/1 (166/990) /content/gdrive/MyDrive/pythonsportsball/atlanta.mp4: 384x640 (no detections), 5.8ms\n",
            "video 1/1 (167/990) /content/gdrive/MyDrive/pythonsportsball/atlanta.mp4: 384x640 (no detections), 5.7ms\n",
            "video 1/1 (168/990) /content/gdrive/MyDrive/pythonsportsball/atlanta.mp4: 384x640 (no detections), 7.3ms\n",
            "video 1/1 (169/990) /content/gdrive/MyDrive/pythonsportsball/atlanta.mp4: 384x640 (no detections), 5.8ms\n",
            "video 1/1 (170/990) /content/gdrive/MyDrive/pythonsportsball/atlanta.mp4: 384x640 (no detections), 6.0ms\n",
            "video 1/1 (171/990) /content/gdrive/MyDrive/pythonsportsball/atlanta.mp4: 384x640 (no detections), 5.6ms\n",
            "video 1/1 (172/990) /content/gdrive/MyDrive/pythonsportsball/atlanta.mp4: 384x640 (no detections), 5.9ms\n",
            "video 1/1 (173/990) /content/gdrive/MyDrive/pythonsportsball/atlanta.mp4: 384x640 (no detections), 5.6ms\n",
            "video 1/1 (174/990) /content/gdrive/MyDrive/pythonsportsball/atlanta.mp4: 384x640 (no detections), 5.9ms\n",
            "video 1/1 (175/990) /content/gdrive/MyDrive/pythonsportsball/atlanta.mp4: 384x640 (no detections), 5.8ms\n",
            "video 1/1 (176/990) /content/gdrive/MyDrive/pythonsportsball/atlanta.mp4: 384x640 (no detections), 5.7ms\n",
            "video 1/1 (177/990) /content/gdrive/MyDrive/pythonsportsball/atlanta.mp4: 384x640 (no detections), 6.1ms\n",
            "video 1/1 (178/990) /content/gdrive/MyDrive/pythonsportsball/atlanta.mp4: 384x640 (no detections), 5.8ms\n",
            "video 1/1 (179/990) /content/gdrive/MyDrive/pythonsportsball/atlanta.mp4: 384x640 (no detections), 8.0ms\n",
            "video 1/1 (180/990) /content/gdrive/MyDrive/pythonsportsball/atlanta.mp4: 384x640 (no detections), 5.7ms\n",
            "video 1/1 (181/990) /content/gdrive/MyDrive/pythonsportsball/atlanta.mp4: 384x640 (no detections), 5.8ms\n",
            "video 1/1 (182/990) /content/gdrive/MyDrive/pythonsportsball/atlanta.mp4: 384x640 (no detections), 5.8ms\n",
            "video 1/1 (183/990) /content/gdrive/MyDrive/pythonsportsball/atlanta.mp4: 384x640 (no detections), 6.7ms\n",
            "video 1/1 (184/990) /content/gdrive/MyDrive/pythonsportsball/atlanta.mp4: 384x640 (no detections), 6.1ms\n",
            "video 1/1 (185/990) /content/gdrive/MyDrive/pythonsportsball/atlanta.mp4: 384x640 (no detections), 5.7ms\n",
            "video 1/1 (186/990) /content/gdrive/MyDrive/pythonsportsball/atlanta.mp4: 384x640 (no detections), 5.9ms\n",
            "video 1/1 (187/990) /content/gdrive/MyDrive/pythonsportsball/atlanta.mp4: 384x640 (no detections), 6.3ms\n",
            "video 1/1 (188/990) /content/gdrive/MyDrive/pythonsportsball/atlanta.mp4: 384x640 (no detections), 7.2ms\n",
            "video 1/1 (189/990) /content/gdrive/MyDrive/pythonsportsball/atlanta.mp4: 384x640 (no detections), 6.0ms\n",
            "video 1/1 (190/990) /content/gdrive/MyDrive/pythonsportsball/atlanta.mp4: 384x640 (no detections), 5.7ms\n",
            "video 1/1 (191/990) /content/gdrive/MyDrive/pythonsportsball/atlanta.mp4: 384x640 (no detections), 6.1ms\n",
            "video 1/1 (192/990) /content/gdrive/MyDrive/pythonsportsball/atlanta.mp4: 384x640 (no detections), 6.1ms\n",
            "video 1/1 (193/990) /content/gdrive/MyDrive/pythonsportsball/atlanta.mp4: 384x640 (no detections), 6.2ms\n",
            "video 1/1 (194/990) /content/gdrive/MyDrive/pythonsportsball/atlanta.mp4: 384x640 (no detections), 8.1ms\n",
            "video 1/1 (195/990) /content/gdrive/MyDrive/pythonsportsball/atlanta.mp4: 384x640 (no detections), 5.8ms\n",
            "video 1/1 (196/990) /content/gdrive/MyDrive/pythonsportsball/atlanta.mp4: 384x640 (no detections), 10.5ms\n",
            "video 1/1 (197/990) /content/gdrive/MyDrive/pythonsportsball/atlanta.mp4: 384x640 (no detections), 6.0ms\n",
            "video 1/1 (198/990) /content/gdrive/MyDrive/pythonsportsball/atlanta.mp4: 384x640 (no detections), 5.9ms\n",
            "video 1/1 (199/990) /content/gdrive/MyDrive/pythonsportsball/atlanta.mp4: 384x640 (no detections), 5.6ms\n",
            "video 1/1 (200/990) /content/gdrive/MyDrive/pythonsportsball/atlanta.mp4: 384x640 (no detections), 6.0ms\n",
            "video 1/1 (201/990) /content/gdrive/MyDrive/pythonsportsball/atlanta.mp4: 384x640 (no detections), 5.6ms\n",
            "video 1/1 (202/990) /content/gdrive/MyDrive/pythonsportsball/atlanta.mp4: 384x640 (no detections), 7.4ms\n",
            "video 1/1 (203/990) /content/gdrive/MyDrive/pythonsportsball/atlanta.mp4: 384x640 (no detections), 5.7ms\n",
            "video 1/1 (204/990) /content/gdrive/MyDrive/pythonsportsball/atlanta.mp4: 384x640 (no detections), 6.1ms\n",
            "video 1/1 (205/990) /content/gdrive/MyDrive/pythonsportsball/atlanta.mp4: 384x640 (no detections), 5.8ms\n",
            "video 1/1 (206/990) /content/gdrive/MyDrive/pythonsportsball/atlanta.mp4: 384x640 (no detections), 5.8ms\n",
            "video 1/1 (207/990) /content/gdrive/MyDrive/pythonsportsball/atlanta.mp4: 384x640 (no detections), 6.5ms\n",
            "video 1/1 (208/990) /content/gdrive/MyDrive/pythonsportsball/atlanta.mp4: 384x640 (no detections), 7.1ms\n",
            "video 1/1 (209/990) /content/gdrive/MyDrive/pythonsportsball/atlanta.mp4: 384x640 (no detections), 8.0ms\n",
            "video 1/1 (210/990) /content/gdrive/MyDrive/pythonsportsball/atlanta.mp4: 384x640 (no detections), 5.6ms\n",
            "video 1/1 (211/990) /content/gdrive/MyDrive/pythonsportsball/atlanta.mp4: 384x640 (no detections), 5.9ms\n",
            "video 1/1 (212/990) /content/gdrive/MyDrive/pythonsportsball/atlanta.mp4: 384x640 (no detections), 5.6ms\n",
            "video 1/1 (213/990) /content/gdrive/MyDrive/pythonsportsball/atlanta.mp4: 384x640 (no detections), 12.6ms\n",
            "video 1/1 (214/990) /content/gdrive/MyDrive/pythonsportsball/atlanta.mp4: 384x640 (no detections), 7.5ms\n",
            "video 1/1 (215/990) /content/gdrive/MyDrive/pythonsportsball/atlanta.mp4: 384x640 (no detections), 6.7ms\n",
            "video 1/1 (216/990) /content/gdrive/MyDrive/pythonsportsball/atlanta.mp4: 384x640 (no detections), 5.8ms\n",
            "video 1/1 (217/990) /content/gdrive/MyDrive/pythonsportsball/atlanta.mp4: 384x640 (no detections), 5.6ms\n",
            "video 1/1 (218/990) /content/gdrive/MyDrive/pythonsportsball/atlanta.mp4: 384x640 (no detections), 6.2ms\n",
            "video 1/1 (219/990) /content/gdrive/MyDrive/pythonsportsball/atlanta.mp4: 384x640 (no detections), 6.5ms\n",
            "video 1/1 (220/990) /content/gdrive/MyDrive/pythonsportsball/atlanta.mp4: 384x640 (no detections), 5.9ms\n",
            "video 1/1 (221/990) /content/gdrive/MyDrive/pythonsportsball/atlanta.mp4: 384x640 (no detections), 7.9ms\n",
            "video 1/1 (222/990) /content/gdrive/MyDrive/pythonsportsball/atlanta.mp4: 384x640 (no detections), 5.8ms\n",
            "video 1/1 (223/990) /content/gdrive/MyDrive/pythonsportsball/atlanta.mp4: 384x640 (no detections), 5.9ms\n",
            "video 1/1 (224/990) /content/gdrive/MyDrive/pythonsportsball/atlanta.mp4: 384x640 (no detections), 8.1ms\n",
            "video 1/1 (225/990) /content/gdrive/MyDrive/pythonsportsball/atlanta.mp4: 384x640 (no detections), 5.8ms\n",
            "video 1/1 (226/990) /content/gdrive/MyDrive/pythonsportsball/atlanta.mp4: 384x640 (no detections), 5.7ms\n",
            "video 1/1 (227/990) /content/gdrive/MyDrive/pythonsportsball/atlanta.mp4: 384x640 (no detections), 6.0ms\n",
            "video 1/1 (228/990) /content/gdrive/MyDrive/pythonsportsball/atlanta.mp4: 384x640 (no detections), 6.1ms\n",
            "video 1/1 (229/990) /content/gdrive/MyDrive/pythonsportsball/atlanta.mp4: 384x640 (no detections), 5.5ms\n",
            "video 1/1 (230/990) /content/gdrive/MyDrive/pythonsportsball/atlanta.mp4: 384x640 (no detections), 5.8ms\n",
            "video 1/1 (231/990) /content/gdrive/MyDrive/pythonsportsball/atlanta.mp4: 384x640 (no detections), 5.4ms\n",
            "video 1/1 (232/990) /content/gdrive/MyDrive/pythonsportsball/atlanta.mp4: 384x640 (no detections), 7.6ms\n",
            "video 1/1 (233/990) /content/gdrive/MyDrive/pythonsportsball/atlanta.mp4: 384x640 (no detections), 5.7ms\n",
            "video 1/1 (234/990) /content/gdrive/MyDrive/pythonsportsball/atlanta.mp4: 384x640 (no detections), 10.2ms\n",
            "video 1/1 (235/990) /content/gdrive/MyDrive/pythonsportsball/atlanta.mp4: 384x640 (no detections), 6.1ms\n",
            "video 1/1 (236/990) /content/gdrive/MyDrive/pythonsportsball/atlanta.mp4: 384x640 (no detections), 5.6ms\n",
            "video 1/1 (237/990) /content/gdrive/MyDrive/pythonsportsball/atlanta.mp4: 384x640 (no detections), 5.9ms\n",
            "video 1/1 (238/990) /content/gdrive/MyDrive/pythonsportsball/atlanta.mp4: 384x640 (no detections), 5.8ms\n",
            "video 1/1 (239/990) /content/gdrive/MyDrive/pythonsportsball/atlanta.mp4: 384x640 (no detections), 7.9ms\n",
            "video 1/1 (240/990) /content/gdrive/MyDrive/pythonsportsball/atlanta.mp4: 384x640 (no detections), 7.9ms\n",
            "video 1/1 (241/990) /content/gdrive/MyDrive/pythonsportsball/atlanta.mp4: 384x640 (no detections), 5.8ms\n",
            "video 1/1 (242/990) /content/gdrive/MyDrive/pythonsportsball/atlanta.mp4: 384x640 (no detections), 5.5ms\n",
            "video 1/1 (243/990) /content/gdrive/MyDrive/pythonsportsball/atlanta.mp4: 384x640 (no detections), 5.9ms\n",
            "video 1/1 (244/990) /content/gdrive/MyDrive/pythonsportsball/atlanta.mp4: 384x640 (no detections), 5.4ms\n",
            "video 1/1 (245/990) /content/gdrive/MyDrive/pythonsportsball/atlanta.mp4: 384x640 (no detections), 5.8ms\n",
            "video 1/1 (246/990) /content/gdrive/MyDrive/pythonsportsball/atlanta.mp4: 384x640 (no detections), 5.6ms\n",
            "video 1/1 (247/990) /content/gdrive/MyDrive/pythonsportsball/atlanta.mp4: 384x640 (no detections), 6.3ms\n",
            "video 1/1 (248/990) /content/gdrive/MyDrive/pythonsportsball/atlanta.mp4: 384x640 (no detections), 5.5ms\n",
            "video 1/1 (249/990) /content/gdrive/MyDrive/pythonsportsball/atlanta.mp4: 384x640 (no detections), 6.0ms\n",
            "video 1/1 (250/990) /content/gdrive/MyDrive/pythonsportsball/atlanta.mp4: 384x640 (no detections), 5.7ms\n",
            "video 1/1 (251/990) /content/gdrive/MyDrive/pythonsportsball/atlanta.mp4: 384x640 (no detections), 5.5ms\n",
            "video 1/1 (252/990) /content/gdrive/MyDrive/pythonsportsball/atlanta.mp4: 384x640 (no detections), 7.2ms\n",
            "video 1/1 (253/990) /content/gdrive/MyDrive/pythonsportsball/atlanta.mp4: 384x640 (no detections), 5.6ms\n",
            "video 1/1 (254/990) /content/gdrive/MyDrive/pythonsportsball/atlanta.mp4: 384x640 (no detections), 10.3ms\n",
            "video 1/1 (255/990) /content/gdrive/MyDrive/pythonsportsball/atlanta.mp4: 384x640 (no detections), 6.0ms\n",
            "video 1/1 (256/990) /content/gdrive/MyDrive/pythonsportsball/atlanta.mp4: 384x640 (no detections), 6.0ms\n",
            "video 1/1 (257/990) /content/gdrive/MyDrive/pythonsportsball/atlanta.mp4: 384x640 (no detections), 5.7ms\n",
            "video 1/1 (258/990) /content/gdrive/MyDrive/pythonsportsball/atlanta.mp4: 384x640 (no detections), 6.3ms\n",
            "video 1/1 (259/990) /content/gdrive/MyDrive/pythonsportsball/atlanta.mp4: 384x640 (no detections), 5.8ms\n",
            "video 1/1 (260/990) /content/gdrive/MyDrive/pythonsportsball/atlanta.mp4: 384x640 (no detections), 5.6ms\n",
            "video 1/1 (261/990) /content/gdrive/MyDrive/pythonsportsball/atlanta.mp4: 384x640 (no detections), 5.6ms\n",
            "video 1/1 (262/990) /content/gdrive/MyDrive/pythonsportsball/atlanta.mp4: 384x640 (no detections), 5.5ms\n",
            "video 1/1 (263/990) /content/gdrive/MyDrive/pythonsportsball/atlanta.mp4: 384x640 (no detections), 5.8ms\n",
            "video 1/1 (264/990) /content/gdrive/MyDrive/pythonsportsball/atlanta.mp4: 384x640 (no detections), 5.8ms\n",
            "video 1/1 (265/990) /content/gdrive/MyDrive/pythonsportsball/atlanta.mp4: 384x640 (no detections), 5.8ms\n",
            "video 1/1 (266/990) /content/gdrive/MyDrive/pythonsportsball/atlanta.mp4: 384x640 (no detections), 5.6ms\n",
            "video 1/1 (267/990) /content/gdrive/MyDrive/pythonsportsball/atlanta.mp4: 384x640 (no detections), 5.7ms\n",
            "video 1/1 (268/990) /content/gdrive/MyDrive/pythonsportsball/atlanta.mp4: 384x640 (no detections), 6.0ms\n",
            "video 1/1 (269/990) /content/gdrive/MyDrive/pythonsportsball/atlanta.mp4: 384x640 (no detections), 7.8ms\n",
            "video 1/1 (270/990) /content/gdrive/MyDrive/pythonsportsball/atlanta.mp4: 384x640 (no detections), 5.4ms\n",
            "video 1/1 (271/990) /content/gdrive/MyDrive/pythonsportsball/atlanta.mp4: 384x640 (no detections), 6.1ms\n",
            "video 1/1 (272/990) /content/gdrive/MyDrive/pythonsportsball/atlanta.mp4: 384x640 (no detections), 6.5ms\n",
            "video 1/1 (273/990) /content/gdrive/MyDrive/pythonsportsball/atlanta.mp4: 384x640 (no detections), 9.9ms\n",
            "video 1/1 (274/990) /content/gdrive/MyDrive/pythonsportsball/atlanta.mp4: 384x640 (no detections), 6.1ms\n",
            "video 1/1 (275/990) /content/gdrive/MyDrive/pythonsportsball/atlanta.mp4: 384x640 (no detections), 5.7ms\n",
            "video 1/1 (276/990) /content/gdrive/MyDrive/pythonsportsball/atlanta.mp4: 384x640 (no detections), 5.9ms\n",
            "video 1/1 (277/990) /content/gdrive/MyDrive/pythonsportsball/atlanta.mp4: 384x640 (no detections), 5.9ms\n",
            "video 1/1 (278/990) /content/gdrive/MyDrive/pythonsportsball/atlanta.mp4: 384x640 (no detections), 6.7ms\n",
            "video 1/1 (279/990) /content/gdrive/MyDrive/pythonsportsball/atlanta.mp4: 384x640 (no detections), 11.1ms\n",
            "video 1/1 (280/990) /content/gdrive/MyDrive/pythonsportsball/atlanta.mp4: 384x640 (no detections), 7.2ms\n",
            "video 1/1 (281/990) /content/gdrive/MyDrive/pythonsportsball/atlanta.mp4: 384x640 (no detections), 7.2ms\n",
            "video 1/1 (282/990) /content/gdrive/MyDrive/pythonsportsball/atlanta.mp4: 384x640 (no detections), 5.6ms\n",
            "video 1/1 (283/990) /content/gdrive/MyDrive/pythonsportsball/atlanta.mp4: 384x640 (no detections), 5.9ms\n",
            "video 1/1 (284/990) /content/gdrive/MyDrive/pythonsportsball/atlanta.mp4: 384x640 (no detections), 8.3ms\n",
            "video 1/1 (285/990) /content/gdrive/MyDrive/pythonsportsball/atlanta.mp4: 384x640 (no detections), 6.4ms\n",
            "video 1/1 (286/990) /content/gdrive/MyDrive/pythonsportsball/atlanta.mp4: 384x640 (no detections), 6.2ms\n",
            "video 1/1 (287/990) /content/gdrive/MyDrive/pythonsportsball/atlanta.mp4: 384x640 (no detections), 5.8ms\n",
            "video 1/1 (288/990) /content/gdrive/MyDrive/pythonsportsball/atlanta.mp4: 384x640 (no detections), 5.9ms\n",
            "video 1/1 (289/990) /content/gdrive/MyDrive/pythonsportsball/atlanta.mp4: 384x640 (no detections), 6.1ms\n",
            "video 1/1 (290/990) /content/gdrive/MyDrive/pythonsportsball/atlanta.mp4: 384x640 (no detections), 5.9ms\n",
            "video 1/1 (291/990) /content/gdrive/MyDrive/pythonsportsball/atlanta.mp4: 384x640 (no detections), 10.1ms\n",
            "video 1/1 (292/990) /content/gdrive/MyDrive/pythonsportsball/atlanta.mp4: 384x640 (no detections), 6.7ms\n",
            "video 1/1 (293/990) /content/gdrive/MyDrive/pythonsportsball/atlanta.mp4: 384x640 (no detections), 5.8ms\n",
            "video 1/1 (294/990) /content/gdrive/MyDrive/pythonsportsball/atlanta.mp4: 384x640 (no detections), 5.9ms\n",
            "video 1/1 (295/990) /content/gdrive/MyDrive/pythonsportsball/atlanta.mp4: 384x640 (no detections), 8.7ms\n",
            "Traceback (most recent call last):\n",
            "  File \"/content/yolov5/detect_with_labels1.py\", line 283, in <module>\n",
            "  File \"/content/yolov5/detect_with_labels1.py\", line 278, in main\n",
            "    run(**vars(opt))\n",
            "  File \"/usr/local/lib/python3.10/dist-packages/torch/utils/_contextlib.py\", line 115, in decorate_context\n",
            "    return func(*args, **kwargs)\n",
            "  File \"/content/yolov5/detect_with_labels1.py\", line 125, in run\n",
            "    pred = model(im, augment=augment, visualize=visualize)\n",
            "  File \"/usr/local/lib/python3.10/dist-packages/torch/nn/modules/module.py\", line 1511, in _wrapped_call_impl\n",
            "    return self._call_impl(*args, **kwargs)\n",
            "  File \"/usr/local/lib/python3.10/dist-packages/torch/nn/modules/module.py\", line 1520, in _call_impl\n",
            "    return forward_call(*args, **kwargs)\n",
            "  File \"/content/yolov5/models/common.py\", line 650, in forward\n",
            "    y = self.model(im, augment=augment, visualize=visualize) if augment or visualize else self.model(im)\n",
            "  File \"/usr/local/lib/python3.10/dist-packages/torch/nn/modules/module.py\", line 1511, in _wrapped_call_impl\n",
            "    return self._call_impl(*args, **kwargs)\n",
            "  File \"/usr/local/lib/python3.10/dist-packages/torch/nn/modules/module.py\", line 1520, in _call_impl\n",
            "    return forward_call(*args, **kwargs)\n",
            "  File \"/content/yolov5/models/yolo.py\", line 263, in forward\n",
            "    return self._forward_once(x, profile, visualize)  # single-scale inference, train\n",
            "  File \"/content/yolov5/models/yolo.py\", line 167, in _forward_once\n",
            "    x = m(x)  # run\n",
            "  File \"/usr/local/lib/python3.10/dist-packages/torch/nn/modules/module.py\", line 1511, in _wrapped_call_impl\n",
            "    return self._call_impl(*args, **kwargs)\n",
            "  File \"/usr/local/lib/python3.10/dist-packages/torch/nn/modules/module.py\", line 1520, in _call_impl\n",
            "    return forward_call(*args, **kwargs)\n",
            "  File \"/content/yolov5/models/common.py\", line 238, in forward\n",
            "    return self.cv3(torch.cat((self.m(self.cv1(x)), self.cv2(x)), 1))\n",
            "  File \"/usr/local/lib/python3.10/dist-packages/torch/nn/modules/module.py\", line 1511, in _wrapped_call_impl\n",
            "    return self._call_impl(*args, **kwargs)\n",
            "  File \"/usr/local/lib/python3.10/dist-packages/torch/nn/modules/module.py\", line 1520, in _call_impl\n",
            "    return forward_call(*args, **kwargs)\n",
            "  File \"/usr/local/lib/python3.10/dist-packages/torch/nn/modules/container.py\", line 217, in forward\n",
            "    input = module(input)\n",
            "  File \"/usr/local/lib/python3.10/dist-packages/torch/nn/modules/module.py\", line 1511, in _wrapped_call_impl\n",
            "    return self._call_impl(*args, **kwargs)\n",
            "  File \"/usr/local/lib/python3.10/dist-packages/torch/nn/modules/module.py\", line 1520, in _call_impl\n",
            "    return forward_call(*args, **kwargs)\n",
            "  File \"/content/yolov5/models/common.py\", line 175, in forward\n",
            "    return x + self.cv2(self.cv1(x)) if self.add else self.cv2(self.cv1(x))\n",
            "  File \"/usr/local/lib/python3.10/dist-packages/torch/nn/modules/module.py\", line 1511, in _wrapped_call_impl\n",
            "    return self._call_impl(*args, **kwargs)\n",
            "  File \"/usr/local/lib/python3.10/dist-packages/torch/nn/modules/module.py\", line 1520, in _call_impl\n",
            "    return forward_call(*args, **kwargs)\n",
            "  File \"/content/yolov5/models/common.py\", line 90, in forward_fuse\n",
            "    return self.act(self.conv(x))\n",
            "  File \"/usr/local/lib/python3.10/dist-packages/torch/nn/modules/module.py\", line 1511, in _wrapped_call_impl\n",
            "    return self._call_impl(*args, **kwargs)\n",
            "  File \"/usr/local/lib/python3.10/dist-packages/torch/nn/modules/module.py\", line 1520, in _call_impl\n",
            "    return forward_call(*args, **kwargs)\n",
            "  File \"/usr/local/lib/python3.10/dist-packages/torch/nn/modules/conv.py\", line 459, in forward\n",
            "    def forward(self, input: Tensor) -> Tensor:\n",
            "KeyboardInterrupt\n"
          ]
        }
      ],
      "source": [
        "# !python content/yolov5/detect.py --weights content/yolov5/runs/train/exp3/weights/best.pt --img 640\n",
        "# --source ./content/gdrive/MyDrive/atlanta.mp4 --save-txt --save-conf\n",
        "\n",
        "# if you download pythonsportsball and put it into your gooogle drive in MyDrive, these paths will be ok\n",
        "!python /content/yolov5/detect_with_labels1.py --weights /content/yolov5/runs/train/exp2/weights/best.pt --img 640 --source /content/gdrive/MyDrive/pythonsportsball/atlanta.mp4 --save-txt --save-conf\n",
        "\n",
        "# display.Image(filename='runs/detect/exp/zidane.jpg', width=600)\n",
        "\n",
        "# to track people using uploaded video instead of google drive\n",
        "# !python /content/yolov5/detect.py --img 640 --source /content/gdrive/MyDrive/pythonsportsball/atlanta.mp4 --save-txt --save-conf\n"
      ]
    },
    {
      "cell_type": "markdown",
      "metadata": {
        "id": "hkAzDWJ7cWTr"
      },
      "source": [
        "&nbsp;&nbsp;&nbsp;&nbsp;&nbsp;&nbsp;&nbsp;&nbsp;\n",
        "<img align=\"left\" src=\"https://user-images.githubusercontent.com/26833433/127574988-6a558aa1-d268-44b9-bf6b-62d4c605cc72.jpg\" width=\"600\">"
      ]
    },
    {
      "cell_type": "markdown",
      "metadata": {
        "id": "0eq1SMWl6Sfn"
      },
      "source": [
        "# 2. Validate\n",
        "Validate a model's accuracy on the [COCO](https://cocodataset.org/#home) dataset's `val` or `test` splits. Models are downloaded automatically from the [latest YOLOv5 release](https://github.com/ultralytics/yolov5/releases). To show results by class use the `--verbose` flag."
      ]
    },
    {
      "cell_type": "code",
      "execution_count": null,
      "metadata": {
        "colab": {
          "base_uri": "https://localhost:8080/",
          "height": 49,
          "referenced_widgets": [
            "9b8caa3522fc4cbab31e13b5dfc7808d",
            "574140e4c4bc48c9a171541a02cd0211",
            "35e03ce5090346c9ae602891470fc555",
            "c942c208e72d46568b476bb0f2d75496",
            "65881db1db8a4e9c930fab9172d45143",
            "60b913d755b34d638478e30705a2dde1",
            "0856bea36ec148b68522ff9c9eb258d8",
            "76879f6f2aa54637a7a07faeea2bd684",
            "0ace3934ec6f4d36a1b3a9e086390926",
            "d6b7a2243e0c4beca714d99dceec23d6",
            "5966ba6e6f114d8c9d8d1d6b1bd4f4c7"
          ]
        },
        "id": "WQPtK1QYVaD_",
        "outputId": "102dabed-bc31-42fe-9133-d9ce28a2c01e"
      },
      "outputs": [
        {
          "data": {
            "application/vnd.jupyter.widget-view+json": {
              "model_id": "9b8caa3522fc4cbab31e13b5dfc7808d",
              "version_major": 2,
              "version_minor": 0
            },
            "text/plain": [
              "  0%|          | 0.00/780M [00:00<?, ?B/s]"
            ]
          },
          "metadata": {},
          "output_type": "display_data"
        }
      ],
      "source": [
        "# Download COCO val\n",
        "torch.hub.download_url_to_file('https://ultralytics.com/assets/coco2017val.zip', 'tmp.zip')  # download (780M - 5000 images)\n",
        "!unzip -q tmp.zip -d ../datasets && rm tmp.zip  # unzip"
      ]
    },
    {
      "cell_type": "code",
      "execution_count": null,
      "metadata": {
        "colab": {
          "base_uri": "https://localhost:8080/"
        },
        "id": "X58w8JLpMnjH",
        "outputId": "daf60b1b-b098-4657-c863-584f4c9cf078"
      },
      "outputs": [
        {
          "name": "stdout",
          "output_type": "stream",
          "text": [
            "\u001b[34m\u001b[1mval: \u001b[0mdata=/content/yolov5/data/coco.yaml, weights=['yolov5s.pt'], batch_size=32, imgsz=640, conf_thres=0.001, iou_thres=0.6, task=val, device=, workers=8, single_cls=False, augment=False, verbose=False, save_txt=False, save_hybrid=False, save_conf=False, save_json=True, project=runs/val, name=exp, exist_ok=False, half=True, dnn=False\n",
            "YOLOv5 🚀 v6.2-56-g30e674b Python-3.7.13 torch-1.12.1+cu113 CUDA:0 (Tesla V100-SXM2-16GB, 16160MiB)\n",
            "\n",
            "Fusing layers... \n",
            "YOLOv5s summary: 213 layers, 7225885 parameters, 0 gradients\n",
            "Downloading https://ultralytics.com/assets/Arial.ttf to /root/.config/Ultralytics/Arial.ttf...\n",
            "100% 755k/755k [00:00<00:00, 52.7MB/s]\n",
            "\u001b[34m\u001b[1mval: \u001b[0mScanning '/content/datasets/coco/val2017' images and labels...4952 found, 48 missing, 0 empty, 0 corrupt: 100% 5000/5000 [00:00<00:00, 10509.20it/s]\n",
            "\u001b[34m\u001b[1mval: \u001b[0mNew cache created: /content/datasets/coco/val2017.cache\n",
            "                 Class     Images  Instances          P          R     mAP@.5 mAP@.5:.95: 100% 157/157 [00:50<00:00,  3.10it/s]\n",
            "                   all       5000      36335       0.67      0.521      0.566      0.371\n",
            "Speed: 0.1ms pre-process, 1.0ms inference, 1.5ms NMS per image at shape (32, 3, 640, 640)\n",
            "\n",
            "Evaluating pycocotools mAP... saving runs/val/exp/yolov5s_predictions.json...\n",
            "loading annotations into memory...\n",
            "Done (t=0.81s)\n",
            "creating index...\n",
            "index created!\n",
            "Loading and preparing results...\n",
            "DONE (t=5.62s)\n",
            "creating index...\n",
            "index created!\n",
            "Running per image evaluation...\n",
            "Evaluate annotation type *bbox*\n",
            "DONE (t=77.03s).\n",
            "Accumulating evaluation results...\n",
            "DONE (t=14.63s).\n",
            " Average Precision  (AP) @[ IoU=0.50:0.95 | area=   all | maxDets=100 ] = 0.374\n",
            " Average Precision  (AP) @[ IoU=0.50      | area=   all | maxDets=100 ] = 0.572\n",
            " Average Precision  (AP) @[ IoU=0.75      | area=   all | maxDets=100 ] = 0.402\n",
            " Average Precision  (AP) @[ IoU=0.50:0.95 | area= small | maxDets=100 ] = 0.211\n",
            " Average Precision  (AP) @[ IoU=0.50:0.95 | area=medium | maxDets=100 ] = 0.423\n",
            " Average Precision  (AP) @[ IoU=0.50:0.95 | area= large | maxDets=100 ] = 0.489\n",
            " Average Recall     (AR) @[ IoU=0.50:0.95 | area=   all | maxDets=  1 ] = 0.311\n",
            " Average Recall     (AR) @[ IoU=0.50:0.95 | area=   all | maxDets= 10 ] = 0.516\n",
            " Average Recall     (AR) @[ IoU=0.50:0.95 | area=   all | maxDets=100 ] = 0.566\n",
            " Average Recall     (AR) @[ IoU=0.50:0.95 | area= small | maxDets=100 ] = 0.378\n",
            " Average Recall     (AR) @[ IoU=0.50:0.95 | area=medium | maxDets=100 ] = 0.625\n",
            " Average Recall     (AR) @[ IoU=0.50:0.95 | area= large | maxDets=100 ] = 0.724\n",
            "Results saved to \u001b[1mruns/val/exp\u001b[0m\n"
          ]
        }
      ],
      "source": [
        "# Validate YOLOv5s on COCO val\n",
        "!python val.py --weights yolov5s.pt --data coco.yaml --img 640 --half"
      ]
    },
    {
      "cell_type": "markdown",
      "metadata": {
        "id": "ZY2VXXXu74w5"
      },
      "source": [
        "# 3. Train\n",
        "\n",
        "<p align=\"\"><a href=\"https://roboflow.com/?ref=ultralytics\"><img width=\"1000\" src=\"https://uploads-ssl.webflow.com/5f6bc60e665f54545a1e52a5/615627e5824c9c6195abfda9_computer-vision-cycle.png\"/></a></p>\n",
        "Close the active learning loop by sampling images from your inference conditions with the `roboflow` pip package\n",
        "<br><br>\n",
        "\n",
        "Train a YOLOv5s model on the [COCO128](https://www.kaggle.com/ultralytics/coco128) dataset with `--data coco128.yaml`, starting from pretrained `--weights yolov5s.pt`, or from randomly initialized `--weights '' --cfg yolov5s.yaml`.\n",
        "\n",
        "- **Pretrained [Models](https://github.com/ultralytics/yolov5/tree/master/models)** are downloaded\n",
        "automatically from the [latest YOLOv5 release](https://github.com/ultralytics/yolov5/releases)\n",
        "- **[Datasets](https://github.com/ultralytics/yolov5/tree/master/data)** available for autodownload include: [COCO](https://github.com/ultralytics/yolov5/blob/master/data/coco.yaml), [COCO128](https://github.com/ultralytics/yolov5/blob/master/data/coco128.yaml), [VOC](https://github.com/ultralytics/yolov5/blob/master/data/VOC.yaml), [Argoverse](https://github.com/ultralytics/yolov5/blob/master/data/Argoverse.yaml), [VisDrone](https://github.com/ultralytics/yolov5/blob/master/data/VisDrone.yaml), [GlobalWheat](https://github.com/ultralytics/yolov5/blob/master/data/GlobalWheat2020.yaml), [xView](https://github.com/ultralytics/yolov5/blob/master/data/xView.yaml), [Objects365](https://github.com/ultralytics/yolov5/blob/master/data/Objects365.yaml), [SKU-110K](https://github.com/ultralytics/yolov5/blob/master/data/SKU-110K.yaml).\n",
        "- **Training Results** are saved to `runs/train/` with incrementing run directories, i.e. `runs/train/exp2`, `runs/train/exp3` etc.\n",
        "<br><br>\n",
        "\n",
        "A **Mosaic Dataloader** is used for training which combines 4 images into 1 mosaic.\n",
        "\n",
        "## Train on Custom Data with Roboflow 🌟 NEW\n",
        "\n",
        "[Roboflow](https://roboflow.com/?ref=ultralytics) enables you to easily **organize, label, and prepare** a high quality dataset with your own custom data. Roboflow also makes it easy to establish an active learning pipeline, collaborate with your team on dataset improvement, and integrate directly into your model building workflow with the `roboflow` pip package.\n",
        "\n",
        "- Custom Training Example: [https://blog.roboflow.com/how-to-train-yolov5-on-a-custom-dataset/](https://blog.roboflow.com/how-to-train-yolov5-on-a-custom-dataset/?ref=ultralytics)\n",
        "- Custom Training Notebook: [![Open In Colab](https://colab.research.google.com/assets/colab-badge.svg)](https://colab.research.google.com/github/roboflow-ai/yolov5-custom-training-tutorial/blob/main/yolov5-custom-training.ipynb)\n",
        "<br>\n",
        "\n",
        "<p align=\"\"><a href=\"https://roboflow.com/?ref=ultralytics\"><img width=\"480\" src=\"https://uploads-ssl.webflow.com/5f6bc60e665f54545a1e52a5/6152a275ad4b4ac20cd2e21a_roboflow-annotate.gif\"/></a></p>Label images lightning fast (including with model-assisted labeling)"
      ]
    },
    {
      "cell_type": "code",
      "execution_count": null,
      "metadata": {
        "id": "i3oKtE4g-aNn"
      },
      "outputs": [],
      "source": [
        "#@title Select YOLOv5 🚀 logger {run: 'auto'}\n",
        "logger = 'TensorBoard' #@param ['TensorBoard', 'Comet', 'ClearML']\n",
        "\n",
        "if logger == 'TensorBoard':\n",
        "  %load_ext tensorboard\n",
        "  %tensorboard --logdir runs/train\n",
        "elif logger == 'Comet':\n",
        "  %pip install -q comet_ml\n",
        "  import comet_ml; comet_ml.init()\n",
        "elif logger == 'ClearML':\n",
        "  %pip install -q clearml && clearml-init"
      ]
    },
    {
      "cell_type": "code",
      "execution_count": null,
      "metadata": {
        "colab": {
          "base_uri": "https://localhost:8080/"
        },
        "id": "eXk0ugeobZo2",
        "outputId": "b048e588-f095-418a-9534-73fb14f0c6fc"
      },
      "outputs": [
        {
          "name": "stdout",
          "output_type": "stream",
          "text": [
            "benchmarks.py    \u001b[0m\u001b[01;34mdata\u001b[0m/       LICENSE          requirements.txt  tutorial.ipynb\n",
            "CITATION.cff     detect.py   \u001b[01;34mmodels\u001b[0m/          \u001b[01;34msegment\u001b[0m/          \u001b[01;34mutils\u001b[0m/\n",
            "\u001b[01;34mclassify\u001b[0m/        export.py   README.md        setup.cfg         val.py\n",
            "CONTRIBUTING.md  hubconf.py  README.zh-CN.md  train.py\n",
            "/content\n"
          ]
        }
      ],
      "source": [
        "%ls\n",
        "%cd ../\n"
      ]
    },
    {
      "cell_type": "code",
      "execution_count": null,
      "metadata": {
        "colab": {
          "background_save": true,
          "base_uri": "https://localhost:8080/"
        },
        "id": "1NcFxRcFdJ_O",
        "outputId": "feb2e409-fbbf-447f-9bc1-1c304892630e"
      },
      "outputs": [
        {
          "name": "stdout",
          "output_type": "stream",
          "text": [
            "2024-03-26 04:28:08.468824: E external/local_xla/xla/stream_executor/cuda/cuda_dnn.cc:9261] Unable to register cuDNN factory: Attempting to register factory for plugin cuDNN when one has already been registered\n",
            "2024-03-26 04:28:08.468974: E external/local_xla/xla/stream_executor/cuda/cuda_fft.cc:607] Unable to register cuFFT factory: Attempting to register factory for plugin cuFFT when one has already been registered\n",
            "2024-03-26 04:28:08.643939: E external/local_xla/xla/stream_executor/cuda/cuda_blas.cc:1515] Unable to register cuBLAS factory: Attempting to register factory for plugin cuBLAS when one has already been registered\n",
            "\u001b[34m\u001b[1mtrain: \u001b[0mweights=yolov5s.pt, cfg=, data=cv.yaml, hyp=yolov5/data/hyps/hyp.scratch-low.yaml, epochs=10, batch_size=16, imgsz=720, rect=False, resume=False, nosave=False, noval=False, noautoanchor=False, noplots=False, evolve=None, evolve_population=yolov5/data/hyps, resume_evolve=None, bucket=, cache=ram, image_weights=False, device=, multi_scale=False, single_cls=False, optimizer=SGD, sync_bn=False, workers=8, project=yolov5/runs/train, name=exp, exist_ok=False, quad=False, cos_lr=False, label_smoothing=0.0, patience=100, freeze=[0], save_period=-1, seed=0, local_rank=-1, entity=None, upload_dataset=False, bbox_interval=-1, artifact_alias=latest, ndjson_console=False, ndjson_file=False\n",
            "\u001b[34m\u001b[1mgithub: \u001b[0mup to date with https://github.com/ultralytics/yolov5 ✅\n",
            "YOLOv5 🚀 v7.0-295-gac6c4383 Python-3.10.12 torch-2.2.1+cu121 CPU\n",
            "\n",
            "\u001b[34m\u001b[1mhyperparameters: \u001b[0mlr0=0.01, lrf=0.01, momentum=0.937, weight_decay=0.0005, warmup_epochs=3.0, warmup_momentum=0.8, warmup_bias_lr=0.1, box=0.05, cls=0.5, cls_pw=1.0, obj=1.0, obj_pw=1.0, iou_t=0.2, anchor_t=4.0, fl_gamma=0.0, hsv_h=0.015, hsv_s=0.7, hsv_v=0.4, degrees=0.0, translate=0.1, scale=0.5, shear=0.0, perspective=0.0, flipud=0.0, fliplr=0.5, mosaic=1.0, mixup=0.0, copy_paste=0.0\n",
            "\u001b[34m\u001b[1mComet: \u001b[0mrun 'pip install comet_ml' to automatically track and visualize YOLOv5 🚀 runs in Comet\n",
            "\u001b[34m\u001b[1mTensorBoard: \u001b[0mStart with 'tensorboard --logdir yolov5/runs/train', view at http://localhost:6006/\n",
            "Downloading https://github.com/ultralytics/yolov5/releases/download/v7.0/yolov5s.pt to yolov5s.pt...\n",
            "100% 14.1M/14.1M [00:00<00:00, 122MB/s] \n",
            "\n",
            "Overriding model.yaml nc=80 with nc=1\n",
            "\n",
            "                 from  n    params  module                                  arguments                     \n",
            "  0                -1  1      3520  models.common.Conv                      [3, 32, 6, 2, 2]              \n",
            "  1                -1  1     18560  models.common.Conv                      [32, 64, 3, 2]                \n",
            "  2                -1  1     18816  models.common.C3                        [64, 64, 1]                   \n",
            "  3                -1  1     73984  models.common.Conv                      [64, 128, 3, 2]               \n",
            "  4                -1  2    115712  models.common.C3                        [128, 128, 2]                 \n",
            "  5                -1  1    295424  models.common.Conv                      [128, 256, 3, 2]              \n",
            "  6                -1  3    625152  models.common.C3                        [256, 256, 3]                 \n",
            "  7                -1  1   1180672  models.common.Conv                      [256, 512, 3, 2]              \n",
            "  8                -1  1   1182720  models.common.C3                        [512, 512, 1]                 \n",
            "  9                -1  1    656896  models.common.SPPF                      [512, 512, 5]                 \n",
            " 10                -1  1    131584  models.common.Conv                      [512, 256, 1, 1]              \n",
            " 11                -1  1         0  torch.nn.modules.upsampling.Upsample    [None, 2, 'nearest']          \n",
            " 12           [-1, 6]  1         0  models.common.Concat                    [1]                           \n",
            " 13                -1  1    361984  models.common.C3                        [512, 256, 1, False]          \n",
            " 14                -1  1     33024  models.common.Conv                      [256, 128, 1, 1]              \n",
            " 15                -1  1         0  torch.nn.modules.upsampling.Upsample    [None, 2, 'nearest']          \n",
            " 16           [-1, 4]  1         0  models.common.Concat                    [1]                           \n",
            " 17                -1  1     90880  models.common.C3                        [256, 128, 1, False]          \n",
            " 18                -1  1    147712  models.common.Conv                      [128, 128, 3, 2]              \n",
            " 19          [-1, 14]  1         0  models.common.Concat                    [1]                           \n",
            " 20                -1  1    296448  models.common.C3                        [256, 256, 1, False]          \n",
            " 21                -1  1    590336  models.common.Conv                      [256, 256, 3, 2]              \n",
            " 22          [-1, 10]  1         0  models.common.Concat                    [1]                           \n",
            " 23                -1  1   1182720  models.common.C3                        [512, 512, 1, False]          \n",
            " 24      [17, 20, 23]  1     16182  models.yolo.Detect                      [1, [[10, 13, 16, 30, 33, 23], [30, 61, 62, 45, 59, 119], [116, 90, 156, 198, 373, 326]], [128, 256, 512]]\n",
            "Model summary: 214 layers, 7022326 parameters, 7022326 gradients, 15.9 GFLOPs\n",
            "\n",
            "Transferred 343/349 items from yolov5s.pt\n",
            "WARNING ⚠️ --img-size 720 must be multiple of max stride 32, updating to 736\n",
            "\u001b[34m\u001b[1moptimizer:\u001b[0m SGD(lr=0.01) with parameter groups 57 weight(decay=0.0), 60 weight(decay=0.0005), 60 bias\n",
            "\u001b[34m\u001b[1malbumentations: \u001b[0mBlur(p=0.01, blur_limit=(3, 7)), MedianBlur(p=0.01, blur_limit=(3, 7)), ToGray(p=0.01), CLAHE(p=0.01, clip_limit=(1, 4.0), tile_grid_size=(8, 8))\n",
            "\u001b[34m\u001b[1mtrain: \u001b[0mScanning /content/gdrive/MyDrive/pythonsportsball/train/labels... 839 images, 341 backgrounds, 0 corrupt: 100% 839/839 [02:07<00:00,  6.58it/s]\n",
            "\u001b[34m\u001b[1mtrain: \u001b[0mNew cache created: /content/gdrive/MyDrive/pythonsportsball/train/labels.cache\n",
            "\u001b[34m\u001b[1mtrain: \u001b[0mCaching images (0.7GB ram): 100% 839/839 [00:17<00:00, 48.31it/s]\n",
            "\u001b[34m\u001b[1mval: \u001b[0mScanning /content/gdrive/MyDrive/pythonsportsball/train/labels.cache... 839 images, 341 backgrounds, 0 corrupt: 100% 839/839 [00:00<?, ?it/s]\n",
            "\u001b[34m\u001b[1mval: \u001b[0mCaching images (0.7GB ram): 100% 839/839 [00:27<00:00, 30.07it/s]\n",
            "\n",
            "\u001b[34m\u001b[1mAutoAnchor: \u001b[0m2.20 anchors/target, 0.996 Best Possible Recall (BPR). Current anchors are a good fit to dataset ✅\n",
            "Plotting labels to yolov5/runs/train/exp/labels.jpg... \n",
            "Image sizes 736 train, 736 val\n",
            "Using 2 dataloader workers\n",
            "Logging results to \u001b[1myolov5/runs/train/exp\u001b[0m\n",
            "Starting training for 10 epochs...\n",
            "\n",
            "      Epoch    GPU_mem   box_loss   obj_loss   cls_loss  Instances       Size\n",
            "        0/9         0G    0.04975    0.03316          0         16        736:   0% 0/53 [00:51<?, ?it/s]WARNING ⚠️ TensorBoard graph visualization failure Sizes of tensors must match except in dimension 1. Expected size 46 but got size 45 for tensor number 1 in the list.\n",
            "        0/9         0G    0.04945    0.03295          0         16        736:   4% 2/53 [01:38<41:24, 48.72s/it]"
          ]
        }
      ],
      "source": [
        "# Train YOLOv5s on COCO128 for 3 epochs\n",
        "!python yolov5/train.py --img 720 --batch 16 --epochs 10 --data cv.yaml --weights yolov5s.pt --cache"
      ]
    },
    {
      "cell_type": "code",
      "execution_count": null,
      "metadata": {
        "id": "ah_KHZboQvTn"
      },
      "outputs": [],
      "source": []
    },
    {
      "cell_type": "markdown",
      "metadata": {
        "id": "15glLzbQx5u0"
      },
      "source": [
        "# 4. Visualize"
      ]
    },
    {
      "cell_type": "markdown",
      "metadata": {
        "id": "nWOsI5wJR1o3"
      },
      "source": [
        "## Comet Logging and Visualization 🌟 NEW\n",
        "[Comet](https://bit.ly/yolov5-readme-comet) is now fully integrated with YOLOv5. Track and visualize model metrics in real time, save your hyperparameters, datasets, and model checkpoints, and visualize your model predictions with [Comet Custom Panels](https://bit.ly/yolov5-colab-comet-panels)! Comet makes sure you never lose track of your work and makes it easy to share results and collaborate across teams of all sizes!\n",
        "\n",
        "Getting started is easy:\n",
        "```shell\n",
        "pip install comet_ml  # 1. install\n",
        "export COMET_API_KEY=<Your API Key>  # 2. paste API key\n",
        "python train.py --img 640 --epochs 3 --data coco128.yaml --weights yolov5s.pt  # 3. train\n",
        "```\n",
        "\n",
        "To learn more about all of the supported Comet features for this integration, check out the [Comet Tutorial](https://github.com/ultralytics/yolov5/tree/master/utils/loggers/comet). If you'd like to learn more about Comet, head over to our [documentation](https://bit.ly/yolov5-colab-comet-docs). Get started by trying out the Comet Colab Notebook:\n",
        "[![Open In Colab](https://colab.research.google.com/assets/colab-badge.svg)](https://colab.research.google.com/drive/1RG0WOQyxlDlo5Km8GogJpIEJlg_5lyYO?usp=sharing)\n",
        "\n",
        "<img width=\"1920\" alt=\"yolo-ui\" src=\"https://user-images.githubusercontent.com/7529846/187608607-ff89c3d5-1b8b-4743-a974-9275301b0524.png\">"
      ]
    },
    {
      "cell_type": "markdown",
      "metadata": {
        "id": "Lay2WsTjNJzP"
      },
      "source": [
        "## ClearML Logging and Automation 🌟 NEW\n",
        "\n",
        "[ClearML](https://cutt.ly/yolov5-notebook-clearml) is completely integrated into YOLOv5 to track your experimentation, manage dataset versions and even remotely execute training runs. To enable ClearML (check cells above):\n",
        "\n",
        "- `pip install clearml`\n",
        "- run `clearml-init` to connect to a ClearML server (**deploy your own [open-source server](https://github.com/allegroai/clearml-server)**, or use our [free hosted server](https://cutt.ly/yolov5-notebook-clearml))\n",
        "\n",
        "You'll get all the great expected features from an experiment manager: live updates, model upload, experiment comparison etc. but ClearML also tracks uncommitted changes and installed packages for example. Thanks to that ClearML Tasks (which is what we call experiments) are also reproducible on different machines! With only 1 extra line, we can schedule a YOLOv5 training task on a queue to be executed by any number of ClearML Agents (workers).\n",
        "\n",
        "You can use ClearML Data to version your dataset and then pass it to YOLOv5 simply using its unique ID. This will help you keep track of your data without adding extra hassle. Explore the [ClearML Tutorial](https://github.com/ultralytics/yolov5/tree/master/utils/loggers/clearml) for details!\n",
        "\n",
        "<a href=\"https://cutt.ly/yolov5-notebook-clearml\">\n",
        "<img alt=\"ClearML Experiment Management UI\" src=\"https://github.com/thepycoder/clearml_screenshots/raw/main/scalars.jpg\" width=\"1280\"/></a>"
      ]
    },
    {
      "cell_type": "markdown",
      "metadata": {
        "id": "-WPvRbS5Swl6"
      },
      "source": [
        "## Local Logging\n",
        "\n",
        "Training results are automatically logged with [Tensorboard](https://www.tensorflow.org/tensorboard) and [CSV](https://github.com/ultralytics/yolov5/pull/4148) loggers to `runs/train`, with a new experiment directory created for each new training as `runs/train/exp2`, `runs/train/exp3`, etc.\n",
        "\n",
        "This directory contains train and val statistics, mosaics, labels, predictions and augmentated mosaics, as well as metrics and charts including precision-recall (PR) curves and confusion matrices.\n",
        "\n",
        "<img alt=\"Local logging results\" src=\"https://user-images.githubusercontent.com/26833433/183222430-e1abd1b7-782c-4cde-b04d-ad52926bf818.jpg\" width=\"1280\"/>\n"
      ]
    },
    {
      "cell_type": "markdown",
      "metadata": {
        "id": "Zelyeqbyt3GD"
      },
      "source": [
        "# Environments\n",
        "\n",
        "YOLOv5 may be run in any of the following up-to-date verified environments (with all dependencies including [CUDA](https://developer.nvidia.com/cuda)/[CUDNN](https://developer.nvidia.com/cudnn), [Python](https://www.python.org/) and [PyTorch](https://pytorch.org/) preinstalled):\n",
        "\n",
        "- **Notebooks** with free GPU: <a href=\"https://bit.ly/yolov5-paperspace-notebook\"><img src=\"https://assets.paperspace.io/img/gradient-badge.svg\" alt=\"Run on Gradient\"></a> <a href=\"https://colab.research.google.com/github/ultralytics/yolov5/blob/master/tutorial.ipynb\"><img src=\"https://colab.research.google.com/assets/colab-badge.svg\" alt=\"Open In Colab\"></a> <a href=\"https://www.kaggle.com/ultralytics/yolov5\"><img src=\"https://kaggle.com/static/images/open-in-kaggle.svg\" alt=\"Open In Kaggle\"></a>\n",
        "- **Google Cloud** Deep Learning VM. See [GCP Quickstart Guide](https://github.com/ultralytics/yolov5/wiki/GCP-Quickstart)\n",
        "- **Amazon** Deep Learning AMI. See [AWS Quickstart Guide](https://github.com/ultralytics/yolov5/wiki/AWS-Quickstart)\n",
        "- **Docker Image**. See [Docker Quickstart Guide](https://github.com/ultralytics/yolov5/wiki/Docker-Quickstart) <a href=\"https://hub.docker.com/r/ultralytics/yolov5\"><img src=\"https://img.shields.io/docker/pulls/ultralytics/yolov5?logo=docker\" alt=\"Docker Pulls\"></a>\n"
      ]
    },
    {
      "cell_type": "markdown",
      "metadata": {
        "id": "6Qu7Iesl0p54"
      },
      "source": [
        "# Status\n",
        "\n",
        "![YOLOv5 CI](https://github.com/ultralytics/yolov5/actions/workflows/ci-testing.yml/badge.svg)\n",
        "\n",
        "If this badge is green, all [YOLOv5 GitHub Actions](https://github.com/ultralytics/yolov5/actions) Continuous Integration (CI) tests are currently passing. CI tests verify correct operation of YOLOv5 training ([train.py](https://github.com/ultralytics/yolov5/blob/master/train.py)), testing ([val.py](https://github.com/ultralytics/yolov5/blob/master/val.py)), inference ([detect.py](https://github.com/ultralytics/yolov5/blob/master/detect.py)) and export ([export.py](https://github.com/ultralytics/yolov5/blob/master/export.py)) on macOS, Windows, and Ubuntu every 24 hours and on every commit.\n"
      ]
    },
    {
      "cell_type": "markdown",
      "metadata": {
        "id": "IEijrePND_2I"
      },
      "source": [
        "# Appendix\n",
        "\n",
        "Additional content below."
      ]
    },
    {
      "cell_type": "code",
      "execution_count": null,
      "metadata": {
        "id": "GMusP4OAxFu6"
      },
      "outputs": [],
      "source": [
        "# YOLOv5 PyTorch HUB Inference (DetectionModels only)\n",
        "import torch\n",
        "\n",
        "model = torch.hub.load('ultralytics/yolov5', 'yolov5s')  # yolov5n - yolov5x6 or custom\n",
        "im = 'https://ultralytics.com/images/zidane.jpg'  # file, Path, PIL.Image, OpenCV, nparray, list\n",
        "results = model(im)  # inference\n",
        "results.print()  # or .show(), .save(), .crop(), .pandas(), etc."
      ]
    },
    {
      "cell_type": "code",
      "execution_count": null,
      "metadata": {
        "colab": {
          "base_uri": "https://localhost:8080/"
        },
        "id": "Vyc8WMBYhedv",
        "outputId": "442571ce-eda4-41ae-f199-984d9dd2f4e5"
      },
      "outputs": [
        {
          "name": "stdout",
          "output_type": "stream",
          "text": [
            "Looking in indexes: https://pypi.org/simple, https://us-python.pkg.dev/colab-wheels/public/simple/\n",
            "Collecting COCO\n",
            "  Downloading coco-0.4.0.tar.gz (5.2 kB)\n",
            "\u001b[33mWARNING: Discarding https://files.pythonhosted.org/packages/88/3f/01432b8e521e59693f02db6eed24fc45601efe3308d96bb46ed5546c1913/coco-0.4.0.tar.gz#sha256=7612d6c57c26e0d34babe6ea2d5e2280f0738bad7e7606fead89b9af2570c7a3 (from https://pypi.org/simple/coco/). Command errored out with exit status 1: python setup.py egg_info Check the logs for full command output.\u001b[0m\n",
            "  Downloading coco-0.3.1.tar.gz (4.6 kB)\n",
            "\u001b[33mWARNING: Discarding https://files.pythonhosted.org/packages/c4/0a/cb23bd49e6badb93fa830f0447e88ea5ffb6698aec83f814a7025bbb52c7/coco-0.3.1.tar.gz#sha256=8af7e8498bb6df60d881995cb5aff5f4ef4f9d0296ba6cad21172b79bd0b9201 (from https://pypi.org/simple/coco/). Command errored out with exit status 1: python setup.py egg_info Check the logs for full command output.\u001b[0m\n",
            "  Downloading coco-0.3.tar.gz (4.2 kB)\n",
            "\u001b[33mWARNING: Discarding https://files.pythonhosted.org/packages/eb/90/dc494163ed56db8171c11bf9b5e59596f7d40f084cf5bb014af5be1c54a7/coco-0.3.tar.gz#sha256=ee14382123c1400658a8abf9cc373e866774716e1c71d941340763a1e092a552 (from https://pypi.org/simple/coco/). Command errored out with exit status 1: python setup.py egg_info Check the logs for full command output.\u001b[0m\n",
            "  Downloading coco-0.1.2.2.tar.gz (3.7 kB)\n",
            "\u001b[33mWARNING: Discarding https://files.pythonhosted.org/packages/a5/e0/39f04bb7a686c09500c0d69a0032a1347d6743306366385923c9a1fe00ec/coco-0.1.2.2.tar.gz#sha256=2d206d0b398925fc56c3df6e64e619a7d589e4de193230a910b71ea0a5148aa6 (from https://pypi.org/simple/coco/). Command errored out with exit status 1: python setup.py egg_info Check the logs for full command output.\u001b[0m\n",
            "  Downloading coco-0.1.2.1.tar.gz (3.7 kB)\n",
            "\u001b[33mWARNING: Discarding https://files.pythonhosted.org/packages/93/f0/089eb8debe1f8adaa2ed68f09553403e6498ce8af905c65e275986350237/coco-0.1.2.1.tar.gz#sha256=640971c7f2f43db14853dc9ff904827442672362ea506f592e1be30c2c5dc62d (from https://pypi.org/simple/coco/). Command errored out with exit status 1: python setup.py egg_info Check the logs for full command output.\u001b[0m\n",
            "  Downloading coco-0.1.2.tar.gz (3.7 kB)\n",
            "\u001b[33mWARNING: Discarding https://files.pythonhosted.org/packages/87/31/389104e002e1336451b40b0f7d2fd81b13b0826950337e4fc9fa55924ff4/coco-0.1.2.tar.gz#sha256=470469853f9f7f4c54699f9bfae59d559d4042c94153ece4a2edd5efacd8d801 (from https://pypi.org/simple/coco/). Command errored out with exit status 1: python setup.py egg_info Check the logs for full command output.\u001b[0m\n",
            "  Downloading coco-0.1.0.tar.gz (4.0 kB)\n",
            "\u001b[33mWARNING: Discarding https://files.pythonhosted.org/packages/04/d3/ccf6a37f91cd9421a70a797da0266262d6e890b78e1d46717c09242188b5/coco-0.1.0.tar.gz#sha256=e6dc01b73dcde2b1abaf6a92445350e4e9b88bfe2dcdd954bbe26205adeab423 (from https://pypi.org/simple/coco/). Command errored out with exit status 1: python setup.py egg_info Check the logs for full command output.\u001b[0m\n",
            "  Downloading coco-0.0.2.tar.gz (2.1 kB)\n",
            "\u001b[33mWARNING: Discarding https://files.pythonhosted.org/packages/4d/cf/db8c6bf480dffdf78485e04b82566f03e90aace31f58f162cb392e306a9c/coco-0.0.2.tar.gz#sha256=982eabf2aa0965dd47b5985c1030967819f7ae2b7af3ef228ee18f7a00c6b8a7 (from https://pypi.org/simple/coco/). Command errored out with exit status 1: python setup.py egg_info Check the logs for full command output.\u001b[0m\n",
            "  Downloading coco-0.0.1.tar.gz (2.1 kB)\n",
            "\u001b[33mWARNING: Discarding https://files.pythonhosted.org/packages/29/c9/9876ea58e504002ebbd99dbae7d329adbb63526a5cd5834febb81cb523da/coco-0.0.1.tar.gz#sha256=2bd4bee18c60f67be8a7a702add4ce4783b11577cb6ccb0d7ed694bb1e1878c2 (from https://pypi.org/simple/coco/). Command errored out with exit status 1: python setup.py egg_info Check the logs for full command output.\u001b[0m\n",
            "\u001b[31mERROR: Could not find a version that satisfies the requirement COCO (from versions: 0.0.1, 0.0.2, 0.1.0, 0.1.2, 0.1.2.1, 0.1.2.2, 0.3, 0.3.1, 0.4.0)\u001b[0m\n",
            "\u001b[31mERROR: No matching distribution found for COCO\u001b[0m\n"
          ]
        }
      ],
      "source": [
        "!pip install COCO\n"
      ]
    },
    {
      "cell_type": "code",
      "execution_count": null,
      "metadata": {
        "id": "rs79Nvg3hxye"
      },
      "outputs": [],
      "source": [
        "from pycocotools.coco import COCO\n",
        "\n",
        "dataDir='..'\n",
        "dataType='val2017'\n",
        "annFile='{}/annotations/instances_{}.json'.format(dataDir,dataType)"
      ]
    },
    {
      "cell_type": "code",
      "execution_count": null,
      "metadata": {
        "colab": {
          "base_uri": "https://localhost:8080/",
          "height": 383
        },
        "id": "0wsObNrDh2_H",
        "outputId": "2e951e93-5836-48c5-c4ee-e66c24dc73b7"
      },
      "outputs": [
        {
          "name": "stdout",
          "output_type": "stream",
          "text": [
            "loading annotations into memory...\n"
          ]
        },
        {
          "ename": "FileNotFoundError",
          "evalue": "ignored",
          "output_type": "error",
          "traceback": [
            "\u001b[0;31m---------------------------------------------------------------------------\u001b[0m",
            "\u001b[0;31mFileNotFoundError\u001b[0m                         Traceback (most recent call last)",
            "\u001b[0;32m<ipython-input-35-c632aa2fd69b>\u001b[0m in \u001b[0;36m<module>\u001b[0;34m\u001b[0m\n\u001b[0;32m----> 1\u001b[0;31m \u001b[0mcoco\u001b[0m\u001b[0;34m=\u001b[0m\u001b[0mCOCO\u001b[0m\u001b[0;34m(\u001b[0m\u001b[0mannFile\u001b[0m\u001b[0;34m)\u001b[0m\u001b[0;34m\u001b[0m\u001b[0;34m\u001b[0m\u001b[0m\n\u001b[0m\u001b[1;32m      2\u001b[0m \u001b[0;34m\u001b[0m\u001b[0m\n\u001b[1;32m      3\u001b[0m \u001b[0mdataDir\u001b[0m\u001b[0;34m=\u001b[0m\u001b[0;34m'..'\u001b[0m\u001b[0;34m\u001b[0m\u001b[0;34m\u001b[0m\u001b[0m\n\u001b[1;32m      4\u001b[0m \u001b[0mdataType\u001b[0m\u001b[0;34m=\u001b[0m\u001b[0;34m'val2017'\u001b[0m\u001b[0;34m\u001b[0m\u001b[0;34m\u001b[0m\u001b[0m\n\u001b[1;32m      5\u001b[0m \u001b[0mannFile\u001b[0m\u001b[0;34m=\u001b[0m\u001b[0;34m'{}/annotations/instances_{}.json'\u001b[0m\u001b[0;34m.\u001b[0m\u001b[0mformat\u001b[0m\u001b[0;34m(\u001b[0m\u001b[0mdataDir\u001b[0m\u001b[0;34m,\u001b[0m\u001b[0mdataType\u001b[0m\u001b[0;34m)\u001b[0m\u001b[0;34m\u001b[0m\u001b[0;34m\u001b[0m\u001b[0m\n",
            "\u001b[0;32m/usr/local/lib/python3.7/dist-packages/pycocotools/coco.py\u001b[0m in \u001b[0;36m__init__\u001b[0;34m(self, annotation_file)\u001b[0m\n\u001b[1;32m     79\u001b[0m             \u001b[0mprint\u001b[0m\u001b[0;34m(\u001b[0m\u001b[0;34m'loading annotations into memory...'\u001b[0m\u001b[0;34m)\u001b[0m\u001b[0;34m\u001b[0m\u001b[0;34m\u001b[0m\u001b[0m\n\u001b[1;32m     80\u001b[0m             \u001b[0mtic\u001b[0m \u001b[0;34m=\u001b[0m \u001b[0mtime\u001b[0m\u001b[0;34m.\u001b[0m\u001b[0mtime\u001b[0m\u001b[0;34m(\u001b[0m\u001b[0;34m)\u001b[0m\u001b[0;34m\u001b[0m\u001b[0;34m\u001b[0m\u001b[0m\n\u001b[0;32m---> 81\u001b[0;31m             \u001b[0;32mwith\u001b[0m \u001b[0mopen\u001b[0m\u001b[0;34m(\u001b[0m\u001b[0mannotation_file\u001b[0m\u001b[0;34m,\u001b[0m \u001b[0;34m'r'\u001b[0m\u001b[0;34m)\u001b[0m \u001b[0;32mas\u001b[0m \u001b[0mf\u001b[0m\u001b[0;34m:\u001b[0m\u001b[0;34m\u001b[0m\u001b[0;34m\u001b[0m\u001b[0m\n\u001b[0m\u001b[1;32m     82\u001b[0m                 \u001b[0mdataset\u001b[0m \u001b[0;34m=\u001b[0m \u001b[0mjson\u001b[0m\u001b[0;34m.\u001b[0m\u001b[0mload\u001b[0m\u001b[0;34m(\u001b[0m\u001b[0mf\u001b[0m\u001b[0;34m)\u001b[0m\u001b[0;34m\u001b[0m\u001b[0;34m\u001b[0m\u001b[0m\n\u001b[1;32m     83\u001b[0m             \u001b[0;32massert\u001b[0m \u001b[0mtype\u001b[0m\u001b[0;34m(\u001b[0m\u001b[0mdataset\u001b[0m\u001b[0;34m)\u001b[0m\u001b[0;34m==\u001b[0m\u001b[0mdict\u001b[0m\u001b[0;34m,\u001b[0m \u001b[0;34m'annotation file format {} not supported'\u001b[0m\u001b[0;34m.\u001b[0m\u001b[0mformat\u001b[0m\u001b[0;34m(\u001b[0m\u001b[0mtype\u001b[0m\u001b[0;34m(\u001b[0m\u001b[0mdataset\u001b[0m\u001b[0;34m)\u001b[0m\u001b[0;34m)\u001b[0m\u001b[0;34m\u001b[0m\u001b[0;34m\u001b[0m\u001b[0m\n",
            "\u001b[0;31mFileNotFoundError\u001b[0m: [Errno 2] No such file or directory: '../annotations/instances_val2017.json'"
          ]
        }
      ],
      "source": [
        "coco=COCO(annFile)\n",
        "\n",
        "dataDir='..'\n",
        "dataType='val2017'\n",
        "annFile='{}/annotations/instances_{}.json'.format(dataDir,dataType)\n",
        "\n",
        "coco=COCO(annFile)"
      ]
    }
  ],
  "metadata": {
    "colab": {
      "machine_shape": "hm",
      "provenance": []
    },
    "kernelspec": {
      "display_name": "Python 3",
      "name": "python3"
    },
    "widgets": {
      "application/vnd.jupyter.widget-state+json": {
        "0856bea36ec148b68522ff9c9eb258d8": {
          "model_module": "@jupyter-widgets/controls",
          "model_module_version": "1.5.0",
          "model_name": "DescriptionStyleModel",
          "state": {
            "_model_module": "@jupyter-widgets/controls",
            "_model_module_version": "1.5.0",
            "_model_name": "DescriptionStyleModel",
            "_view_count": null,
            "_view_module": "@jupyter-widgets/base",
            "_view_module_version": "1.2.0",
            "_view_name": "StyleView",
            "description_width": ""
          }
        },
        "0ace3934ec6f4d36a1b3a9e086390926": {
          "model_module": "@jupyter-widgets/controls",
          "model_module_version": "1.5.0",
          "model_name": "ProgressStyleModel",
          "state": {
            "_model_module": "@jupyter-widgets/controls",
            "_model_module_version": "1.5.0",
            "_model_name": "ProgressStyleModel",
            "_view_count": null,
            "_view_module": "@jupyter-widgets/base",
            "_view_module_version": "1.2.0",
            "_view_name": "StyleView",
            "bar_color": null,
            "description_width": ""
          }
        },
        "35e03ce5090346c9ae602891470fc555": {
          "model_module": "@jupyter-widgets/controls",
          "model_module_version": "1.5.0",
          "model_name": "FloatProgressModel",
          "state": {
            "_dom_classes": [],
            "_model_module": "@jupyter-widgets/controls",
            "_model_module_version": "1.5.0",
            "_model_name": "FloatProgressModel",
            "_view_count": null,
            "_view_module": "@jupyter-widgets/controls",
            "_view_module_version": "1.5.0",
            "_view_name": "ProgressView",
            "bar_style": "success",
            "description": "",
            "description_tooltip": null,
            "layout": "IPY_MODEL_76879f6f2aa54637a7a07faeea2bd684",
            "max": 818322941,
            "min": 0,
            "orientation": "horizontal",
            "style": "IPY_MODEL_0ace3934ec6f4d36a1b3a9e086390926",
            "value": 818322941
          }
        },
        "574140e4c4bc48c9a171541a02cd0211": {
          "model_module": "@jupyter-widgets/controls",
          "model_module_version": "1.5.0",
          "model_name": "HTMLModel",
          "state": {
            "_dom_classes": [],
            "_model_module": "@jupyter-widgets/controls",
            "_model_module_version": "1.5.0",
            "_model_name": "HTMLModel",
            "_view_count": null,
            "_view_module": "@jupyter-widgets/controls",
            "_view_module_version": "1.5.0",
            "_view_name": "HTMLView",
            "description": "",
            "description_tooltip": null,
            "layout": "IPY_MODEL_60b913d755b34d638478e30705a2dde1",
            "placeholder": "​",
            "style": "IPY_MODEL_0856bea36ec148b68522ff9c9eb258d8",
            "value": "100%"
          }
        },
        "5966ba6e6f114d8c9d8d1d6b1bd4f4c7": {
          "model_module": "@jupyter-widgets/controls",
          "model_module_version": "1.5.0",
          "model_name": "DescriptionStyleModel",
          "state": {
            "_model_module": "@jupyter-widgets/controls",
            "_model_module_version": "1.5.0",
            "_model_name": "DescriptionStyleModel",
            "_view_count": null,
            "_view_module": "@jupyter-widgets/base",
            "_view_module_version": "1.2.0",
            "_view_name": "StyleView",
            "description_width": ""
          }
        },
        "60b913d755b34d638478e30705a2dde1": {
          "model_module": "@jupyter-widgets/base",
          "model_module_version": "1.2.0",
          "model_name": "LayoutModel",
          "state": {
            "_model_module": "@jupyter-widgets/base",
            "_model_module_version": "1.2.0",
            "_model_name": "LayoutModel",
            "_view_count": null,
            "_view_module": "@jupyter-widgets/base",
            "_view_module_version": "1.2.0",
            "_view_name": "LayoutView",
            "align_content": null,
            "align_items": null,
            "align_self": null,
            "border": null,
            "bottom": null,
            "display": null,
            "flex": null,
            "flex_flow": null,
            "grid_area": null,
            "grid_auto_columns": null,
            "grid_auto_flow": null,
            "grid_auto_rows": null,
            "grid_column": null,
            "grid_gap": null,
            "grid_row": null,
            "grid_template_areas": null,
            "grid_template_columns": null,
            "grid_template_rows": null,
            "height": null,
            "justify_content": null,
            "justify_items": null,
            "left": null,
            "margin": null,
            "max_height": null,
            "max_width": null,
            "min_height": null,
            "min_width": null,
            "object_fit": null,
            "object_position": null,
            "order": null,
            "overflow": null,
            "overflow_x": null,
            "overflow_y": null,
            "padding": null,
            "right": null,
            "top": null,
            "visibility": null,
            "width": null
          }
        },
        "65881db1db8a4e9c930fab9172d45143": {
          "model_module": "@jupyter-widgets/base",
          "model_module_version": "1.2.0",
          "model_name": "LayoutModel",
          "state": {
            "_model_module": "@jupyter-widgets/base",
            "_model_module_version": "1.2.0",
            "_model_name": "LayoutModel",
            "_view_count": null,
            "_view_module": "@jupyter-widgets/base",
            "_view_module_version": "1.2.0",
            "_view_name": "LayoutView",
            "align_content": null,
            "align_items": null,
            "align_self": null,
            "border": null,
            "bottom": null,
            "display": null,
            "flex": null,
            "flex_flow": null,
            "grid_area": null,
            "grid_auto_columns": null,
            "grid_auto_flow": null,
            "grid_auto_rows": null,
            "grid_column": null,
            "grid_gap": null,
            "grid_row": null,
            "grid_template_areas": null,
            "grid_template_columns": null,
            "grid_template_rows": null,
            "height": null,
            "justify_content": null,
            "justify_items": null,
            "left": null,
            "margin": null,
            "max_height": null,
            "max_width": null,
            "min_height": null,
            "min_width": null,
            "object_fit": null,
            "object_position": null,
            "order": null,
            "overflow": null,
            "overflow_x": null,
            "overflow_y": null,
            "padding": null,
            "right": null,
            "top": null,
            "visibility": null,
            "width": null
          }
        },
        "76879f6f2aa54637a7a07faeea2bd684": {
          "model_module": "@jupyter-widgets/base",
          "model_module_version": "1.2.0",
          "model_name": "LayoutModel",
          "state": {
            "_model_module": "@jupyter-widgets/base",
            "_model_module_version": "1.2.0",
            "_model_name": "LayoutModel",
            "_view_count": null,
            "_view_module": "@jupyter-widgets/base",
            "_view_module_version": "1.2.0",
            "_view_name": "LayoutView",
            "align_content": null,
            "align_items": null,
            "align_self": null,
            "border": null,
            "bottom": null,
            "display": null,
            "flex": null,
            "flex_flow": null,
            "grid_area": null,
            "grid_auto_columns": null,
            "grid_auto_flow": null,
            "grid_auto_rows": null,
            "grid_column": null,
            "grid_gap": null,
            "grid_row": null,
            "grid_template_areas": null,
            "grid_template_columns": null,
            "grid_template_rows": null,
            "height": null,
            "justify_content": null,
            "justify_items": null,
            "left": null,
            "margin": null,
            "max_height": null,
            "max_width": null,
            "min_height": null,
            "min_width": null,
            "object_fit": null,
            "object_position": null,
            "order": null,
            "overflow": null,
            "overflow_x": null,
            "overflow_y": null,
            "padding": null,
            "right": null,
            "top": null,
            "visibility": null,
            "width": null
          }
        },
        "9b8caa3522fc4cbab31e13b5dfc7808d": {
          "model_module": "@jupyter-widgets/controls",
          "model_module_version": "1.5.0",
          "model_name": "HBoxModel",
          "state": {
            "_dom_classes": [],
            "_model_module": "@jupyter-widgets/controls",
            "_model_module_version": "1.5.0",
            "_model_name": "HBoxModel",
            "_view_count": null,
            "_view_module": "@jupyter-widgets/controls",
            "_view_module_version": "1.5.0",
            "_view_name": "HBoxView",
            "box_style": "",
            "children": [
              "IPY_MODEL_574140e4c4bc48c9a171541a02cd0211",
              "IPY_MODEL_35e03ce5090346c9ae602891470fc555",
              "IPY_MODEL_c942c208e72d46568b476bb0f2d75496"
            ],
            "layout": "IPY_MODEL_65881db1db8a4e9c930fab9172d45143"
          }
        },
        "c942c208e72d46568b476bb0f2d75496": {
          "model_module": "@jupyter-widgets/controls",
          "model_module_version": "1.5.0",
          "model_name": "HTMLModel",
          "state": {
            "_dom_classes": [],
            "_model_module": "@jupyter-widgets/controls",
            "_model_module_version": "1.5.0",
            "_model_name": "HTMLModel",
            "_view_count": null,
            "_view_module": "@jupyter-widgets/controls",
            "_view_module_version": "1.5.0",
            "_view_name": "HTMLView",
            "description": "",
            "description_tooltip": null,
            "layout": "IPY_MODEL_d6b7a2243e0c4beca714d99dceec23d6",
            "placeholder": "​",
            "style": "IPY_MODEL_5966ba6e6f114d8c9d8d1d6b1bd4f4c7",
            "value": " 780M/780M [02:19&lt;00:00, 6.24MB/s]"
          }
        },
        "d6b7a2243e0c4beca714d99dceec23d6": {
          "model_module": "@jupyter-widgets/base",
          "model_module_version": "1.2.0",
          "model_name": "LayoutModel",
          "state": {
            "_model_module": "@jupyter-widgets/base",
            "_model_module_version": "1.2.0",
            "_model_name": "LayoutModel",
            "_view_count": null,
            "_view_module": "@jupyter-widgets/base",
            "_view_module_version": "1.2.0",
            "_view_name": "LayoutView",
            "align_content": null,
            "align_items": null,
            "align_self": null,
            "border": null,
            "bottom": null,
            "display": null,
            "flex": null,
            "flex_flow": null,
            "grid_area": null,
            "grid_auto_columns": null,
            "grid_auto_flow": null,
            "grid_auto_rows": null,
            "grid_column": null,
            "grid_gap": null,
            "grid_row": null,
            "grid_template_areas": null,
            "grid_template_columns": null,
            "grid_template_rows": null,
            "height": null,
            "justify_content": null,
            "justify_items": null,
            "left": null,
            "margin": null,
            "max_height": null,
            "max_width": null,
            "min_height": null,
            "min_width": null,
            "object_fit": null,
            "object_position": null,
            "order": null,
            "overflow": null,
            "overflow_x": null,
            "overflow_y": null,
            "padding": null,
            "right": null,
            "top": null,
            "visibility": null,
            "width": null
          }
        }
      }
    }
  },
  "nbformat": 4,
  "nbformat_minor": 0
}